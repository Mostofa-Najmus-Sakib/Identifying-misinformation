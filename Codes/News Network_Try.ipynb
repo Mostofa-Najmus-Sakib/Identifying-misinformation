{
 "cells": [
  {
   "cell_type": "markdown",
   "metadata": {},
   "source": [
    "# Loading Library"
   ]
  },
  {
   "cell_type": "code",
   "execution_count": 1,
   "metadata": {
    "ExecuteTime": {
     "end_time": "2020-12-03T00:25:36.557948Z",
     "start_time": "2020-12-03T00:25:31.622124Z"
    }
   },
   "outputs": [
    {
     "name": "stderr",
     "output_type": "stream",
     "text": [
      "/home/qudratealahyratu/anaconda3/envs/common/lib/python3.7/site-packages/google/protobuf/descriptor.py:47: DeprecationWarning:\n",
      "\n",
      "Using or importing the ABCs from 'collections' instead of from 'collections.abc' is deprecated since Python 3.3,and in 3.9 it will stop working\n",
      "\n",
      "/home/qudratealahyratu/anaconda3/envs/common/lib/python3.7/site-packages/tensorflow_core/python/keras/layers/recurrent.py:808: DeprecationWarning:\n",
      "\n",
      "Using or importing the ABCs from 'collections' instead of from 'collections.abc' is deprecated since Python 3.3,and in 3.9 it will stop working\n",
      "\n",
      "/home/qudratealahyratu/anaconda3/envs/common/lib/python3.7/site-packages/tensorflow_core/python/framework/tensor_util.py:523: DeprecationWarning:\n",
      "\n",
      "tostring() is deprecated. Use tobytes() instead.\n",
      "\n",
      "/home/qudratealahyratu/anaconda3/envs/common/lib/python3.7/site-packages/tensorflow_core/python/framework/tensor_util.py:523: DeprecationWarning:\n",
      "\n",
      "tostring() is deprecated. Use tobytes() instead.\n",
      "\n",
      "/home/qudratealahyratu/anaconda3/envs/common/lib/python3.7/site-packages/tensorflow_core/python/framework/tensor_util.py:523: DeprecationWarning:\n",
      "\n",
      "tostring() is deprecated. Use tobytes() instead.\n",
      "\n",
      "/home/qudratealahyratu/anaconda3/envs/common/lib/python3.7/site-packages/tensorflow_core/python/framework/tensor_util.py:523: DeprecationWarning:\n",
      "\n",
      "tostring() is deprecated. Use tobytes() instead.\n",
      "\n",
      "/home/qudratealahyratu/anaconda3/envs/common/lib/python3.7/site-packages/tensorflow_core/python/framework/tensor_util.py:523: DeprecationWarning:\n",
      "\n",
      "tostring() is deprecated. Use tobytes() instead.\n",
      "\n",
      "/home/qudratealahyratu/anaconda3/envs/common/lib/python3.7/site-packages/tensorflow_core/python/framework/tensor_util.py:523: DeprecationWarning:\n",
      "\n",
      "tostring() is deprecated. Use tobytes() instead.\n",
      "\n",
      "/home/qudratealahyratu/anaconda3/envs/common/lib/python3.7/site-packages/tensorflow_core/python/training/tracking/data_structures.py:720: DeprecationWarning:\n",
      "\n",
      "Using or importing the ABCs from 'collections' instead of from 'collections.abc' is deprecated since Python 3.3,and in 3.9 it will stop working\n",
      "\n",
      "/home/qudratealahyratu/anaconda3/envs/common/lib/python3.7/site-packages/tensorflow_core/python/framework/tensor_util.py:523: DeprecationWarning:\n",
      "\n",
      "tostring() is deprecated. Use tobytes() instead.\n",
      "\n",
      "/home/qudratealahyratu/anaconda3/envs/common/lib/python3.7/site-packages/tensorflow_core/python/framework/tensor_util.py:523: DeprecationWarning:\n",
      "\n",
      "tostring() is deprecated. Use tobytes() instead.\n",
      "\n",
      "/home/qudratealahyratu/anaconda3/envs/common/lib/python3.7/site-packages/tensorflow_core/python/framework/tensor_util.py:523: DeprecationWarning:\n",
      "\n",
      "tostring() is deprecated. Use tobytes() instead.\n",
      "\n",
      "/home/qudratealahyratu/anaconda3/envs/common/lib/python3.7/site-packages/tensorflow_core/python/framework/tensor_util.py:523: DeprecationWarning:\n",
      "\n",
      "tostring() is deprecated. Use tobytes() instead.\n",
      "\n",
      "/home/qudratealahyratu/anaconda3/envs/common/lib/python3.7/site-packages/tensorflow_core/python/framework/tensor_util.py:523: DeprecationWarning:\n",
      "\n",
      "tostring() is deprecated. Use tobytes() instead.\n",
      "\n",
      "/home/qudratealahyratu/anaconda3/envs/common/lib/python3.7/site-packages/tensorflow_core/python/framework/tensor_util.py:523: DeprecationWarning:\n",
      "\n",
      "tostring() is deprecated. Use tobytes() instead.\n",
      "\n",
      "/home/qudratealahyratu/anaconda3/envs/common/lib/python3.7/site-packages/tensorflow_core/python/framework/tensor_util.py:523: DeprecationWarning:\n",
      "\n",
      "tostring() is deprecated. Use tobytes() instead.\n",
      "\n",
      "/home/qudratealahyratu/anaconda3/envs/common/lib/python3.7/site-packages/tensorflow_core/python/framework/tensor_util.py:523: DeprecationWarning:\n",
      "\n",
      "tostring() is deprecated. Use tobytes() instead.\n",
      "\n",
      "/home/qudratealahyratu/anaconda3/envs/common/lib/python3.7/site-packages/tensorflow_core/python/framework/tensor_util.py:523: DeprecationWarning:\n",
      "\n",
      "tostring() is deprecated. Use tobytes() instead.\n",
      "\n",
      "/home/qudratealahyratu/anaconda3/envs/common/lib/python3.7/site-packages/tensorflow_core/python/framework/tensor_util.py:523: DeprecationWarning:\n",
      "\n",
      "tostring() is deprecated. Use tobytes() instead.\n",
      "\n",
      "/home/qudratealahyratu/anaconda3/envs/common/lib/python3.7/site-packages/tensorflow_core/python/framework/tensor_util.py:523: DeprecationWarning:\n",
      "\n",
      "tostring() is deprecated. Use tobytes() instead.\n",
      "\n",
      "/home/qudratealahyratu/anaconda3/envs/common/lib/python3.7/site-packages/tensorflow_core/python/framework/tensor_util.py:523: DeprecationWarning:\n",
      "\n",
      "tostring() is deprecated. Use tobytes() instead.\n",
      "\n",
      "/home/qudratealahyratu/anaconda3/envs/common/lib/python3.7/site-packages/tensorflow_core/python/framework/tensor_util.py:523: DeprecationWarning:\n",
      "\n",
      "tostring() is deprecated. Use tobytes() instead.\n",
      "\n",
      "/home/qudratealahyratu/anaconda3/envs/common/lib/python3.7/site-packages/tensorflow_core/python/framework/tensor_util.py:523: DeprecationWarning:\n",
      "\n",
      "tostring() is deprecated. Use tobytes() instead.\n",
      "\n",
      "/home/qudratealahyratu/anaconda3/envs/common/lib/python3.7/site-packages/tensorflow_core/python/framework/tensor_util.py:523: DeprecationWarning:\n",
      "\n",
      "tostring() is deprecated. Use tobytes() instead.\n",
      "\n",
      "/home/qudratealahyratu/anaconda3/envs/common/lib/python3.7/site-packages/tensorflow_core/python/framework/tensor_util.py:523: DeprecationWarning:\n",
      "\n",
      "tostring() is deprecated. Use tobytes() instead.\n",
      "\n",
      "/home/qudratealahyratu/anaconda3/envs/common/lib/python3.7/site-packages/tensorflow_core/python/framework/tensor_util.py:523: DeprecationWarning:\n",
      "\n",
      "tostring() is deprecated. Use tobytes() instead.\n",
      "\n",
      "/home/qudratealahyratu/anaconda3/envs/common/lib/python3.7/site-packages/scipy/sparse/sparsetools.py:21: DeprecationWarning:\n",
      "\n",
      "`scipy.sparse.sparsetools` is deprecated!\n",
      "scipy.sparse.sparsetools is a private module for scipy.sparse, and should not be used.\n",
      "\n"
     ]
    }
   ],
   "source": [
    "import numpy as np\n",
    "\n",
    "\n",
    "import pandas as pd\n",
    "\n",
    "\n",
    "import scipy\n",
    "#from scipy import stats\n",
    "from spacy import displacy\n",
    "import scipy.stats as st\n",
    "import scipy.io\n",
    "from scipy.io import loadmat\n",
    "\n",
    "\n",
    "\n",
    "import sys\n",
    "import os\n",
    "import xmltodict, json\n",
    "from collections import Counter\n",
    "import urllib.request, sys, re\n",
    "\n",
    "\n",
    "from matplotlib import pyplot as plt\n",
    "import matplotlib\n",
    "\n",
    "\n",
    "from pylab import hist, show, xticks, yticks\n",
    "\n",
    "\n",
    "import seaborn as sns\n",
    "\n",
    "import cutecharts.charts as ctc\n",
    "\n",
    "import plotly.express as px\n",
    "\n",
    "from tqdm.notebook import tqdm_notebook\n",
    "\n",
    "\n",
    "import pyLDAvis\n",
    "import pyLDAvis.gensim\n",
    "\n",
    "import missingno as msno \n",
    "\n",
    "\n",
    "import networkx as nx\n",
    "\n",
    "import igviz as ig\n",
    "from igraph.drawing.graph import DefaultGraphDrawer \n",
    "\n",
    "\n",
    "\n",
    "from sklearn.preprocessing import LabelEncoder\n",
    "\n",
    "\n",
    "import en_core_web_sm\n",
    "import tldextract\n",
    "from dgaintel import get_prob\n",
    "\n",
    "\n",
    "from nltk import pos_tag\n",
    "from nltk.tokenize import sent_tokenize\n",
    "from nltk.tokenize import word_tokenize\n",
    "from nltk.corpus import wordnet\n",
    "from nltk.corpus import stopwords\n",
    "from nltk.stem.snowball import SnowballStemmer\n",
    "\n",
    "from gensim import corpora\n",
    "\n",
    "from wordcloud import WordCloud, STOPWORDS\n",
    "\n",
    "from textblob import TextBlob\n",
    "\n",
    "\n",
    "\n",
    "\n",
    "\n",
    "from urllib.request import urlopen, Request\n",
    "import urllib.request\n",
    "\n",
    "#from google.cloud import language_v1\n",
    "from gensim.models import Phrases\n",
    "from itertools import chain\n",
    "\n",
    "\n"
   ]
  },
  {
   "cell_type": "code",
   "execution_count": 2,
   "metadata": {
    "ExecuteTime": {
     "end_time": "2020-12-03T00:25:36.570631Z",
     "start_time": "2020-12-03T00:25:36.559783Z"
    }
   },
   "outputs": [
    {
     "name": "stderr",
     "output_type": "stream",
     "text": [
      "/home/qudratealahyratu/anaconda3/envs/common/lib/python3.7/site-packages/ipykernel/ipkernel.py:287: DeprecationWarning:\n",
      "\n",
      "`should_run_async` will not call `transform_cell` automatically in the future. Please pass the result to `transformed_cell` argument and any exception that happen during thetransform in `preprocessing_exc_tuple` in IPython 7.17 and above.\n",
      "\n"
     ]
    }
   ],
   "source": [
    "import warnings\n",
    "warnings.filterwarnings('ignore')\n",
    "warnings.simplefilter('ignore')"
   ]
  },
  {
   "cell_type": "markdown",
   "metadata": {
    "ExecuteTime": {
     "end_time": "2020-12-02T15:54:48.785461Z",
     "start_time": "2020-12-02T15:54:48.782541Z"
    }
   },
   "source": [
    "# Theme"
   ]
  },
  {
   "cell_type": "code",
   "execution_count": 3,
   "metadata": {
    "ExecuteTime": {
     "end_time": "2020-12-03T00:25:36.635107Z",
     "start_time": "2020-12-03T00:25:36.573592Z"
    }
   },
   "outputs": [],
   "source": [
    "color_bf_9 = \"#9933ff99\"\n",
    "color_pf_9 = \"#1a8cff99\"\n",
    "\n",
    "color_bf_fk_9 = \"#cc00cc99\"\n",
    "color_bf_real_9 = \"#00999999\"\n",
    "\n",
    "color_pf_fk_9 = \"#bf408099\"\n",
    "color_pf_real_9 = \"#99990099\"\n",
    "\n",
    "color_fk_9 = \"#e6000099\"\n",
    "color_real_9 = \"#00990099\""
   ]
  },
  {
   "cell_type": "code",
   "execution_count": 4,
   "metadata": {
    "ExecuteTime": {
     "end_time": "2020-12-03T00:25:36.732428Z",
     "start_time": "2020-12-03T00:25:36.637150Z"
    }
   },
   "outputs": [],
   "source": [
    "color_bf_4 = \"#9933ff44\"\n",
    "color_pf_4 = \"#1a8cff44\"\n",
    "\n",
    "color_bf_fk_4 = \"#cc00cc44\"\n",
    "color_bf_real_4 = \"#00999944\"\n",
    "\n",
    "color_pf_fk_4 = \"#bf408044\"\n",
    "color_pf_real_4 = \"#99990044\"\n",
    "\n",
    "color_fk_4 = \"#e6000044\"\n",
    "color_real_4 = \"#00990044\""
   ]
  },
  {
   "cell_type": "code",
   "execution_count": 5,
   "metadata": {
    "ExecuteTime": {
     "end_time": "2020-12-03T00:25:36.801408Z",
     "start_time": "2020-12-03T00:25:36.734547Z"
    }
   },
   "outputs": [],
   "source": [
    "color_bf = \"#9933ff\"\n",
    "color_pf = \"#1a8cff\"\n",
    "\n",
    "color_bf_fk = \"#cc00cc\"\n",
    "color_bf_real = \"#009999\"\n",
    "\n",
    "color_pf_fk = \"#bf4080\"\n",
    "color_pf_real = \"#999900\"\n",
    "\n",
    "color_fk = \"#e60000\"\n",
    "color_real = \"#009900\""
   ]
  },
  {
   "cell_type": "markdown",
   "metadata": {},
   "source": [
    "# Load Files"
   ]
  },
  {
   "cell_type": "markdown",
   "metadata": {},
   "source": [
    "## Read json files"
   ]
  },
  {
   "cell_type": "code",
   "execution_count": 6,
   "metadata": {
    "ExecuteTime": {
     "end_time": "2020-12-03T00:25:36.867743Z",
     "start_time": "2020-12-03T00:25:36.803215Z"
    }
   },
   "outputs": [],
   "source": [
    "def get_all_file_from_dir(_dir):\n",
    "    all_files = []\n",
    "    for dirname, _, filenames, in os.walk(_dir):\n",
    "        for filename in filenames:\n",
    "            all_files.append(os.path.join(dirname, filename))\n",
    "        return all_files"
   ]
  },
  {
   "cell_type": "code",
   "execution_count": 7,
   "metadata": {
    "ExecuteTime": {
     "end_time": "2020-12-03T00:25:36.949644Z",
     "start_time": "2020-12-03T00:25:36.869390Z"
    }
   },
   "outputs": [],
   "source": [
    "#dir_buzz_par = \"https://github.com/KaiDMML/FakeNewsNet/blob/old-version/Data/BuzzFeed/\"\n",
    "dir_buzz_par = \"/home/qudratealahyratu/BSU_COURSE/social_mining/HW3/FakeNewsNet-old-version/Data/BuzzFeed/\"\n",
    "dir_buzz_fake_cont = dir_buzz_par+\"FakeNewsContent/\"\n",
    "dir_buzz_real_cont = dir_buzz_par+\"RealNewsContent/\"\n",
    "\n",
    "\n",
    "#dir_politi_par = \"https://github.com/KaiDMML/FakeNewsNet/blob/old-version/Data/PolitiFact/\"\n",
    "dir_politi_par = \"/home/qudratealahyratu/BSU_COURSE/social_mining/HW3/FakeNewsNet-old-version/Data/PolitiFact/\"\n",
    "dir_politi_fake_cont = dir_politi_par +\"FakeNewsContent/\"\n",
    "dir_politi_real_cont = dir_politi_par+\"RealNewsContent/\""
   ]
  },
  {
   "cell_type": "code",
   "execution_count": 8,
   "metadata": {
    "ExecuteTime": {
     "end_time": "2020-12-03T00:25:37.034949Z",
     "start_time": "2020-12-03T00:25:36.952749Z"
    }
   },
   "outputs": [],
   "source": [
    "files_buzz_fake_cont = get_all_file_from_dir(dir_buzz_fake_cont)\n",
    "files_buzz_real_cont = get_all_file_from_dir(dir_buzz_real_cont)\n",
    "files_politi_fake_cont = get_all_file_from_dir(dir_politi_fake_cont)\n",
    "files_politi_real_cont = get_all_file_from_dir(dir_politi_real_cont)"
   ]
  },
  {
   "cell_type": "code",
   "execution_count": 9,
   "metadata": {
    "ExecuteTime": {
     "end_time": "2020-12-03T00:25:39.493596Z",
     "start_time": "2020-12-03T00:25:37.037116Z"
    }
   },
   "outputs": [],
   "source": [
    "df_buzz_fake_cont = pd.concat(pd.read_json(f, orient='index').T for f in files_buzz_fake_cont)\n",
    "df_buzz_fake_cont[\"news_alph_id\"] = [f.split(\"/\")[-1].replace(\"-Webpage.json\", \"\") for f in files_buzz_fake_cont]\n",
    "df_buzz_fake_cont.set_index(\"news_alph_id\", inplace = True)\n",
    "df_buzz_fake_cont[\"plt\"] = \"bf\"\n",
    "df_buzz_fake_cont[\"news_type\"] = \"fake\"\n",
    "\n",
    "\n",
    "\n",
    "df_buzz_real_cont = pd.concat(pd.read_json(f, orient='index').T for f in files_buzz_real_cont)\n",
    "df_buzz_real_cont[\"news_alph_id\"] = [f.split(\"/\")[-1].replace(\"-Webpage.json\", \"\") for f in files_buzz_real_cont]\n",
    "df_buzz_real_cont.set_index(\"news_alph_id\", inplace = True)\n",
    "df_buzz_real_cont[\"plt\"] = \"bf\"\n",
    "df_buzz_real_cont[\"news_type\"] = \"real\"\n",
    "\n",
    "\n",
    "df_politi_fake_cont = pd.concat(pd.read_json(f, orient='index').T for f in files_politi_fake_cont)\n",
    "df_politi_fake_cont[\"news_alph_id\"] = [f.split(\"/\")[-1].replace(\"-Webpage.json\", \"\") for f in files_politi_fake_cont]\n",
    "df_politi_fake_cont.set_index(\"news_alph_id\", inplace = True)\n",
    "df_politi_fake_cont[\"plt\"] = \"pf\"\n",
    "df_politi_fake_cont[\"news_type\"] = \"fake\"\n",
    "\n",
    "\n",
    "\n",
    "\n",
    "df_politi_real_cont = pd.concat(pd.read_json(f, orient='index').T for f in files_politi_real_cont)\n",
    "df_politi_real_cont[\"news_alph_id\"] = [f.split(\"/\")[-1].replace(\"-Webpage.json\", \"\") for f in files_politi_real_cont]\n",
    "df_politi_real_cont.set_index(\"news_alph_id\", inplace = True)\n",
    "df_politi_real_cont[\"plt\"] = \"pf\"\n",
    "df_politi_real_cont[\"news_type\"] = \"real\""
   ]
  },
  {
   "cell_type": "code",
   "execution_count": 10,
   "metadata": {
    "ExecuteTime": {
     "end_time": "2020-12-03T00:25:39.502494Z",
     "start_time": "2020-12-03T00:25:39.495872Z"
    }
   },
   "outputs": [],
   "source": [
    "df_bf_news_cont = pd.concat([df_buzz_fake_cont, df_buzz_real_cont])"
   ]
  },
  {
   "cell_type": "code",
   "execution_count": 11,
   "metadata": {
    "ExecuteTime": {
     "end_time": "2020-12-03T00:25:39.772828Z",
     "start_time": "2020-12-03T00:25:39.504352Z"
    }
   },
   "outputs": [],
   "source": [
    "df_poli_news_cont = pd.concat([df_politi_fake_cont, df_politi_real_cont])"
   ]
  },
  {
   "cell_type": "code",
   "execution_count": 12,
   "metadata": {
    "ExecuteTime": {
     "end_time": "2020-12-03T00:25:39.853844Z",
     "start_time": "2020-12-03T00:25:39.774913Z"
    }
   },
   "outputs": [],
   "source": [
    "df_all_news_cont = pd.concat([df_bf_news_cont, df_poli_news_cont])"
   ]
  },
  {
   "cell_type": "code",
   "execution_count": 13,
   "metadata": {
    "ExecuteTime": {
     "end_time": "2020-12-03T00:25:39.921607Z",
     "start_time": "2020-12-03T00:25:39.855491Z"
    }
   },
   "outputs": [],
   "source": [
    "df_all_news_cont = df_all_news_cont.reset_index()"
   ]
  },
  {
   "cell_type": "code",
   "execution_count": 14,
   "metadata": {
    "ExecuteTime": {
     "end_time": "2020-12-03T00:25:40.030128Z",
     "start_time": "2020-12-03T00:25:39.926064Z"
    }
   },
   "outputs": [
    {
     "data": {
      "text/html": [
       "<div>\n",
       "<style scoped>\n",
       "    .dataframe tbody tr th:only-of-type {\n",
       "        vertical-align: middle;\n",
       "    }\n",
       "\n",
       "    .dataframe tbody tr th {\n",
       "        vertical-align: top;\n",
       "    }\n",
       "\n",
       "    .dataframe thead th {\n",
       "        text-align: right;\n",
       "    }\n",
       "</style>\n",
       "<table border=\"1\" class=\"dataframe\">\n",
       "  <thead>\n",
       "    <tr style=\"text-align: right;\">\n",
       "      <th></th>\n",
       "      <th>news_alph_id</th>\n",
       "      <th>news_type</th>\n",
       "    </tr>\n",
       "  </thead>\n",
       "  <tbody>\n",
       "    <tr>\n",
       "      <th>0</th>\n",
       "      <td>BuzzFeed_Fake_28</td>\n",
       "      <td>fake</td>\n",
       "    </tr>\n",
       "    <tr>\n",
       "      <th>1</th>\n",
       "      <td>BuzzFeed_Fake_17</td>\n",
       "      <td>fake</td>\n",
       "    </tr>\n",
       "    <tr>\n",
       "      <th>2</th>\n",
       "      <td>BuzzFeed_Fake_45</td>\n",
       "      <td>fake</td>\n",
       "    </tr>\n",
       "    <tr>\n",
       "      <th>3</th>\n",
       "      <td>BuzzFeed_Fake_41</td>\n",
       "      <td>fake</td>\n",
       "    </tr>\n",
       "    <tr>\n",
       "      <th>4</th>\n",
       "      <td>BuzzFeed_Fake_46</td>\n",
       "      <td>fake</td>\n",
       "    </tr>\n",
       "    <tr>\n",
       "      <th>...</th>\n",
       "      <td>...</td>\n",
       "      <td>...</td>\n",
       "    </tr>\n",
       "    <tr>\n",
       "      <th>417</th>\n",
       "      <td>PolitiFact_Real_39</td>\n",
       "      <td>real</td>\n",
       "    </tr>\n",
       "    <tr>\n",
       "      <th>418</th>\n",
       "      <td>PolitiFact_Real_20</td>\n",
       "      <td>real</td>\n",
       "    </tr>\n",
       "    <tr>\n",
       "      <th>419</th>\n",
       "      <td>PolitiFact_Real_99</td>\n",
       "      <td>real</td>\n",
       "    </tr>\n",
       "    <tr>\n",
       "      <th>420</th>\n",
       "      <td>PolitiFact_Real_30</td>\n",
       "      <td>real</td>\n",
       "    </tr>\n",
       "    <tr>\n",
       "      <th>421</th>\n",
       "      <td>PolitiFact_Real_57</td>\n",
       "      <td>real</td>\n",
       "    </tr>\n",
       "  </tbody>\n",
       "</table>\n",
       "<p>422 rows × 2 columns</p>\n",
       "</div>"
      ],
      "text/plain": [
       "           news_alph_id news_type\n",
       "0      BuzzFeed_Fake_28      fake\n",
       "1      BuzzFeed_Fake_17      fake\n",
       "2      BuzzFeed_Fake_45      fake\n",
       "3      BuzzFeed_Fake_41      fake\n",
       "4      BuzzFeed_Fake_46      fake\n",
       "..                  ...       ...\n",
       "417  PolitiFact_Real_39      real\n",
       "418  PolitiFact_Real_20      real\n",
       "419  PolitiFact_Real_99      real\n",
       "420  PolitiFact_Real_30      real\n",
       "421  PolitiFact_Real_57      real\n",
       "\n",
       "[422 rows x 2 columns]"
      ]
     },
     "execution_count": 14,
     "metadata": {},
     "output_type": "execute_result"
    }
   ],
   "source": [
    "df_all_news_cont[[\"news_alph_id\",\"news_type\"]]"
   ]
  },
  {
   "cell_type": "markdown",
   "metadata": {},
   "source": [
    "# Load Meta Data"
   ]
  },
  {
   "cell_type": "markdown",
   "metadata": {},
   "source": [
    "## BF"
   ]
  },
  {
   "cell_type": "code",
   "execution_count": 15,
   "metadata": {
    "ExecuteTime": {
     "end_time": "2020-12-03T00:25:40.094088Z",
     "start_time": "2020-12-03T00:25:40.032387Z"
    }
   },
   "outputs": [],
   "source": [
    "dir_bf_news = dir_buzz_par + \"News.txt\"\n",
    "dir_bf_user = dir_buzz_par + \"User.txt\"\n",
    "dir_bf_news_user = dir_buzz_par + \"BuzzFeedNewsUser.txt\"\n",
    "dir_bf_user_user = dir_buzz_par + \"BuzzFeedUserUser.txt\""
   ]
  },
  {
   "cell_type": "code",
   "execution_count": 16,
   "metadata": {
    "ExecuteTime": {
     "end_time": "2020-12-03T00:25:40.171198Z",
     "start_time": "2020-12-03T00:25:40.096681Z"
    }
   },
   "outputs": [],
   "source": [
    "with open(dir_bf_news, encoding=\"utf-8\") as file:\n",
    "    #bf_news = [(_indx+1, l.rstrip(\"\\n\")) for _indx, l in enumerate(file)]\n",
    "    bf_news = [(_indx+1, l.rstrip(\"\\n\"), l.rstrip(\"\\n\").split(\"_\")[0]+\"_\"+ \n",
    "                l.rstrip(\"\\n\").split(\"_\")[1]+ \"_\"+ str(_indx+1)) for _indx, l in enumerate(file)]\n",
    "    \n",
    "    \n",
    "#df_bf_news = pd.DataFrame.from_records(bf_news, columns =['news_num_id', 'news_alph_id'])     \n",
    "df_bf_news = pd.DataFrame.from_records(bf_news, columns =['news_num_id', 'news_alph_id', 'news_id_real'])     "
   ]
  },
  {
   "cell_type": "code",
   "execution_count": 17,
   "metadata": {
    "ExecuteTime": {
     "end_time": "2020-12-03T00:25:40.268091Z",
     "start_time": "2020-12-03T00:25:40.173356Z"
    }
   },
   "outputs": [],
   "source": [
    "df_bf_news[\"news_num_id\"] = \"bf_n_\" + df_bf_news[\"news_num_id\"].astype(str)"
   ]
  },
  {
   "cell_type": "code",
   "execution_count": 18,
   "metadata": {
    "ExecuteTime": {
     "end_time": "2020-12-03T00:25:40.332426Z",
     "start_time": "2020-12-03T00:25:40.269589Z"
    }
   },
   "outputs": [],
   "source": [
    "df_bf_news = pd.merge(df_bf_news, df_all_news_cont[[\"news_alph_id\",\"news_type\"]], on = \"news_alph_id\")"
   ]
  },
  {
   "cell_type": "code",
   "execution_count": 19,
   "metadata": {
    "ExecuteTime": {
     "end_time": "2020-12-03T00:25:40.454358Z",
     "start_time": "2020-12-03T00:25:40.335422Z"
    }
   },
   "outputs": [],
   "source": [
    "with open(dir_bf_user, encoding=\"utf-8\") as file:\n",
    "    bf_user = [(_indx, l.rstrip(\"\\n\")) for _indx, l in enumerate(file)]\n",
    "\n",
    "df_bf_user = pd.DataFrame.from_records(bf_user, columns=[\"user_num_id\", \"user_alph_id\"])    "
   ]
  },
  {
   "cell_type": "code",
   "execution_count": 20,
   "metadata": {
    "ExecuteTime": {
     "end_time": "2020-12-03T00:25:40.513561Z",
     "start_time": "2020-12-03T00:25:40.457167Z"
    }
   },
   "outputs": [],
   "source": [
    "df_bf_user[\"user_num_id\"] = \"bf_u_\" + df_bf_user[\"user_num_id\"].astype(str)"
   ]
  },
  {
   "cell_type": "code",
   "execution_count": 21,
   "metadata": {
    "ExecuteTime": {
     "end_time": "2020-12-03T00:25:40.589615Z",
     "start_time": "2020-12-03T00:25:40.515588Z"
    }
   },
   "outputs": [
    {
     "data": {
      "text/html": [
       "<div>\n",
       "<style scoped>\n",
       "    .dataframe tbody tr th:only-of-type {\n",
       "        vertical-align: middle;\n",
       "    }\n",
       "\n",
       "    .dataframe tbody tr th {\n",
       "        vertical-align: top;\n",
       "    }\n",
       "\n",
       "    .dataframe thead th {\n",
       "        text-align: right;\n",
       "    }\n",
       "</style>\n",
       "<table border=\"1\" class=\"dataframe\">\n",
       "  <thead>\n",
       "    <tr style=\"text-align: right;\">\n",
       "      <th></th>\n",
       "      <th>user_num_id</th>\n",
       "      <th>user_alph_id</th>\n",
       "    </tr>\n",
       "  </thead>\n",
       "  <tbody>\n",
       "    <tr>\n",
       "      <th>0</th>\n",
       "      <td>bf_u_0</td>\n",
       "      <td>98d2b98ce305174e2f6c10b8f8a1a9d5</td>\n",
       "    </tr>\n",
       "    <tr>\n",
       "      <th>1</th>\n",
       "      <td>bf_u_1</td>\n",
       "      <td>a273d0fd07c18a884ce2aa425813eb06</td>\n",
       "    </tr>\n",
       "    <tr>\n",
       "      <th>2</th>\n",
       "      <td>bf_u_2</td>\n",
       "      <td>ac091e92df9e854a07563ffb397925d4</td>\n",
       "    </tr>\n",
       "    <tr>\n",
       "      <th>3</th>\n",
       "      <td>bf_u_3</td>\n",
       "      <td>d2ded2de054f2ceb43dff7f80fc46774</td>\n",
       "    </tr>\n",
       "    <tr>\n",
       "      <th>4</th>\n",
       "      <td>bf_u_4</td>\n",
       "      <td>3f2b23abf0e842f6bc97eed85596ff50</td>\n",
       "    </tr>\n",
       "    <tr>\n",
       "      <th>...</th>\n",
       "      <td>...</td>\n",
       "      <td>...</td>\n",
       "    </tr>\n",
       "    <tr>\n",
       "      <th>15252</th>\n",
       "      <td>bf_u_15252</td>\n",
       "      <td>181082a5374a323a17c208a87c5e0418</td>\n",
       "    </tr>\n",
       "    <tr>\n",
       "      <th>15253</th>\n",
       "      <td>bf_u_15253</td>\n",
       "      <td>84170990ec4dfd4a29df1fc6e4ba6b97</td>\n",
       "    </tr>\n",
       "    <tr>\n",
       "      <th>15254</th>\n",
       "      <td>bf_u_15254</td>\n",
       "      <td>5d47a2477f7963484463d0020e7d6d21</td>\n",
       "    </tr>\n",
       "    <tr>\n",
       "      <th>15255</th>\n",
       "      <td>bf_u_15255</td>\n",
       "      <td>fd2441ac470068419ce32248b2f478f0</td>\n",
       "    </tr>\n",
       "    <tr>\n",
       "      <th>15256</th>\n",
       "      <td>bf_u_15256</td>\n",
       "      <td>9921758193ce395704be8b3d73eef8b8</td>\n",
       "    </tr>\n",
       "  </tbody>\n",
       "</table>\n",
       "<p>15257 rows × 2 columns</p>\n",
       "</div>"
      ],
      "text/plain": [
       "      user_num_id                      user_alph_id\n",
       "0          bf_u_0  98d2b98ce305174e2f6c10b8f8a1a9d5\n",
       "1          bf_u_1  a273d0fd07c18a884ce2aa425813eb06\n",
       "2          bf_u_2  ac091e92df9e854a07563ffb397925d4\n",
       "3          bf_u_3  d2ded2de054f2ceb43dff7f80fc46774\n",
       "4          bf_u_4  3f2b23abf0e842f6bc97eed85596ff50\n",
       "...           ...                               ...\n",
       "15252  bf_u_15252  181082a5374a323a17c208a87c5e0418\n",
       "15253  bf_u_15253  84170990ec4dfd4a29df1fc6e4ba6b97\n",
       "15254  bf_u_15254  5d47a2477f7963484463d0020e7d6d21\n",
       "15255  bf_u_15255  fd2441ac470068419ce32248b2f478f0\n",
       "15256  bf_u_15256  9921758193ce395704be8b3d73eef8b8\n",
       "\n",
       "[15257 rows x 2 columns]"
      ]
     },
     "execution_count": 21,
     "metadata": {},
     "output_type": "execute_result"
    }
   ],
   "source": [
    "df_bf_user"
   ]
  },
  {
   "cell_type": "code",
   "execution_count": 22,
   "metadata": {
    "ExecuteTime": {
     "end_time": "2020-12-03T00:25:40.668576Z",
     "start_time": "2020-12-03T00:25:40.591525Z"
    }
   },
   "outputs": [],
   "source": [
    "df_bf_news_user = pd.read_csv(dir_bf_news_user, header = None, sep=\"\\t\", names = [\"news_num_id\", \"user_num_id\", \"times\"])"
   ]
  },
  {
   "cell_type": "code",
   "execution_count": 23,
   "metadata": {
    "ExecuteTime": {
     "end_time": "2020-12-03T00:25:40.777847Z",
     "start_time": "2020-12-03T00:25:40.673649Z"
    }
   },
   "outputs": [
    {
     "data": {
      "text/html": [
       "<div>\n",
       "<style scoped>\n",
       "    .dataframe tbody tr th:only-of-type {\n",
       "        vertical-align: middle;\n",
       "    }\n",
       "\n",
       "    .dataframe tbody tr th {\n",
       "        vertical-align: top;\n",
       "    }\n",
       "\n",
       "    .dataframe thead th {\n",
       "        text-align: right;\n",
       "    }\n",
       "</style>\n",
       "<table border=\"1\" class=\"dataframe\">\n",
       "  <thead>\n",
       "    <tr style=\"text-align: right;\">\n",
       "      <th></th>\n",
       "      <th>news_num_id</th>\n",
       "      <th>user_num_id</th>\n",
       "      <th>times</th>\n",
       "    </tr>\n",
       "  </thead>\n",
       "  <tbody>\n",
       "    <tr>\n",
       "      <th>0</th>\n",
       "      <td>bf_n_45</td>\n",
       "      <td>bf_u_1</td>\n",
       "      <td>1</td>\n",
       "    </tr>\n",
       "    <tr>\n",
       "      <th>1</th>\n",
       "      <td>bf_n_127</td>\n",
       "      <td>bf_u_2</td>\n",
       "      <td>1</td>\n",
       "    </tr>\n",
       "    <tr>\n",
       "      <th>2</th>\n",
       "      <td>bf_n_115</td>\n",
       "      <td>bf_u_3</td>\n",
       "      <td>1</td>\n",
       "    </tr>\n",
       "    <tr>\n",
       "      <th>3</th>\n",
       "      <td>bf_n_180</td>\n",
       "      <td>bf_u_3</td>\n",
       "      <td>1</td>\n",
       "    </tr>\n",
       "    <tr>\n",
       "      <th>4</th>\n",
       "      <td>bf_n_140</td>\n",
       "      <td>bf_u_4</td>\n",
       "      <td>1</td>\n",
       "    </tr>\n",
       "    <tr>\n",
       "      <th>...</th>\n",
       "      <td>...</td>\n",
       "      <td>...</td>\n",
       "      <td>...</td>\n",
       "    </tr>\n",
       "    <tr>\n",
       "      <th>22774</th>\n",
       "      <td>bf_n_150</td>\n",
       "      <td>bf_u_15257</td>\n",
       "      <td>1</td>\n",
       "    </tr>\n",
       "    <tr>\n",
       "      <th>22775</th>\n",
       "      <td>bf_n_151</td>\n",
       "      <td>bf_u_15257</td>\n",
       "      <td>1</td>\n",
       "    </tr>\n",
       "    <tr>\n",
       "      <th>22776</th>\n",
       "      <td>bf_n_152</td>\n",
       "      <td>bf_u_15257</td>\n",
       "      <td>1</td>\n",
       "    </tr>\n",
       "    <tr>\n",
       "      <th>22777</th>\n",
       "      <td>bf_n_155</td>\n",
       "      <td>bf_u_15257</td>\n",
       "      <td>1</td>\n",
       "    </tr>\n",
       "    <tr>\n",
       "      <th>22778</th>\n",
       "      <td>bf_n_157</td>\n",
       "      <td>bf_u_15257</td>\n",
       "      <td>1</td>\n",
       "    </tr>\n",
       "  </tbody>\n",
       "</table>\n",
       "<p>22779 rows × 3 columns</p>\n",
       "</div>"
      ],
      "text/plain": [
       "      news_num_id user_num_id  times\n",
       "0         bf_n_45      bf_u_1      1\n",
       "1        bf_n_127      bf_u_2      1\n",
       "2        bf_n_115      bf_u_3      1\n",
       "3        bf_n_180      bf_u_3      1\n",
       "4        bf_n_140      bf_u_4      1\n",
       "...           ...         ...    ...\n",
       "22774    bf_n_150  bf_u_15257      1\n",
       "22775    bf_n_151  bf_u_15257      1\n",
       "22776    bf_n_152  bf_u_15257      1\n",
       "22777    bf_n_155  bf_u_15257      1\n",
       "22778    bf_n_157  bf_u_15257      1\n",
       "\n",
       "[22779 rows x 3 columns]"
      ]
     },
     "execution_count": 23,
     "metadata": {},
     "output_type": "execute_result"
    }
   ],
   "source": [
    "df_bf_news_user[\"news_num_id\"] = \"bf_n_\" + df_bf_news_user[\"news_num_id\"].astype(str)\n",
    "df_bf_news_user[\"user_num_id\"] = \"bf_u_\" + df_bf_news_user[\"user_num_id\"].astype(str)\n",
    "\n",
    "df_bf_news_user"
   ]
  },
  {
   "cell_type": "code",
   "execution_count": 24,
   "metadata": {
    "ExecuteTime": {
     "end_time": "2020-12-03T00:25:40.926135Z",
     "start_time": "2020-12-03T00:25:40.783241Z"
    }
   },
   "outputs": [],
   "source": [
    "df_bf_user_user = pd.read_csv(dir_bf_user_user, header = None, sep=\"\\t\", names = [\"follower_num_id\", \"user_num_id\"])"
   ]
  },
  {
   "cell_type": "code",
   "execution_count": 25,
   "metadata": {
    "ExecuteTime": {
     "end_time": "2020-12-03T00:25:41.955916Z",
     "start_time": "2020-12-03T00:25:40.932229Z"
    }
   },
   "outputs": [],
   "source": [
    "df_bf_user_user[\"follower_num_id\"] = \"bf_u_\" + df_bf_user_user[\"follower_num_id\"].astype(str)\n",
    "df_bf_user_user[\"user_num_id\"] = \"bf_u_\" + df_bf_user_user[\"user_num_id\"].astype(str)"
   ]
  },
  {
   "cell_type": "markdown",
   "metadata": {},
   "source": [
    "## Politifact"
   ]
  },
  {
   "cell_type": "code",
   "execution_count": 26,
   "metadata": {
    "ExecuteTime": {
     "end_time": "2020-12-03T00:25:41.969890Z",
     "start_time": "2020-12-03T00:25:41.957671Z"
    }
   },
   "outputs": [],
   "source": [
    "dir_poli_news = dir_politi_par + \"News.txt\"\n",
    "dir_poli_user = dir_politi_par + \"User.txt\"\n",
    "dir_poli_news_user = dir_politi_par + \"PolitiFactNewsUser.txt\"\n",
    "dir_poli_user_user = dir_politi_par + \"PolitiFactUserUser.txt\""
   ]
  },
  {
   "cell_type": "code",
   "execution_count": 27,
   "metadata": {
    "ExecuteTime": {
     "end_time": "2020-12-03T00:25:42.039369Z",
     "start_time": "2020-12-03T00:25:41.972486Z"
    }
   },
   "outputs": [],
   "source": [
    "with open(dir_poli_news, encoding=\"utf-8\") as file:\n",
    "    poli_news = [(_indx+1, l.rstrip(\"\\n\"), l.rstrip(\"\\n\").split(\"_\")[0]+\"_\"+ \n",
    "                l.rstrip(\"\\n\").split(\"_\")[1]+ \"_\"+ str(_indx+1)) for _indx, l in enumerate(file)]\n",
    "    \n",
    "    df_poli_news = pd.DataFrame.from_records(poli_news, columns=[\"news_num_id\", \"news_alph_id\", \"news_id_real\"])    "
   ]
  },
  {
   "cell_type": "code",
   "execution_count": 28,
   "metadata": {
    "ExecuteTime": {
     "end_time": "2020-12-03T00:25:42.148170Z",
     "start_time": "2020-12-03T00:25:42.041062Z"
    }
   },
   "outputs": [
    {
     "data": {
      "text/html": [
       "<div>\n",
       "<style scoped>\n",
       "    .dataframe tbody tr th:only-of-type {\n",
       "        vertical-align: middle;\n",
       "    }\n",
       "\n",
       "    .dataframe tbody tr th {\n",
       "        vertical-align: top;\n",
       "    }\n",
       "\n",
       "    .dataframe thead th {\n",
       "        text-align: right;\n",
       "    }\n",
       "</style>\n",
       "<table border=\"1\" class=\"dataframe\">\n",
       "  <thead>\n",
       "    <tr style=\"text-align: right;\">\n",
       "      <th></th>\n",
       "      <th>news_num_id</th>\n",
       "      <th>news_alph_id</th>\n",
       "      <th>news_id_real</th>\n",
       "    </tr>\n",
       "  </thead>\n",
       "  <tbody>\n",
       "    <tr>\n",
       "      <th>0</th>\n",
       "      <td>pf_n_1</td>\n",
       "      <td>PolitiFact_Real_1</td>\n",
       "      <td>PolitiFact_Real_1</td>\n",
       "    </tr>\n",
       "    <tr>\n",
       "      <th>1</th>\n",
       "      <td>pf_n_2</td>\n",
       "      <td>PolitiFact_Real_2</td>\n",
       "      <td>PolitiFact_Real_2</td>\n",
       "    </tr>\n",
       "    <tr>\n",
       "      <th>2</th>\n",
       "      <td>pf_n_3</td>\n",
       "      <td>PolitiFact_Real_3</td>\n",
       "      <td>PolitiFact_Real_3</td>\n",
       "    </tr>\n",
       "    <tr>\n",
       "      <th>3</th>\n",
       "      <td>pf_n_4</td>\n",
       "      <td>PolitiFact_Real_4</td>\n",
       "      <td>PolitiFact_Real_4</td>\n",
       "    </tr>\n",
       "    <tr>\n",
       "      <th>4</th>\n",
       "      <td>pf_n_5</td>\n",
       "      <td>PolitiFact_Real_5</td>\n",
       "      <td>PolitiFact_Real_5</td>\n",
       "    </tr>\n",
       "    <tr>\n",
       "      <th>...</th>\n",
       "      <td>...</td>\n",
       "      <td>...</td>\n",
       "      <td>...</td>\n",
       "    </tr>\n",
       "    <tr>\n",
       "      <th>235</th>\n",
       "      <td>pf_n_236</td>\n",
       "      <td>PolitiFact_Fake_116</td>\n",
       "      <td>PolitiFact_Fake_236</td>\n",
       "    </tr>\n",
       "    <tr>\n",
       "      <th>236</th>\n",
       "      <td>pf_n_237</td>\n",
       "      <td>PolitiFact_Fake_117</td>\n",
       "      <td>PolitiFact_Fake_237</td>\n",
       "    </tr>\n",
       "    <tr>\n",
       "      <th>237</th>\n",
       "      <td>pf_n_238</td>\n",
       "      <td>PolitiFact_Fake_118</td>\n",
       "      <td>PolitiFact_Fake_238</td>\n",
       "    </tr>\n",
       "    <tr>\n",
       "      <th>238</th>\n",
       "      <td>pf_n_239</td>\n",
       "      <td>PolitiFact_Fake_119</td>\n",
       "      <td>PolitiFact_Fake_239</td>\n",
       "    </tr>\n",
       "    <tr>\n",
       "      <th>239</th>\n",
       "      <td>pf_n_240</td>\n",
       "      <td>PolitiFact_Fake_120</td>\n",
       "      <td>PolitiFact_Fake_240</td>\n",
       "    </tr>\n",
       "  </tbody>\n",
       "</table>\n",
       "<p>240 rows × 3 columns</p>\n",
       "</div>"
      ],
      "text/plain": [
       "    news_num_id         news_alph_id         news_id_real\n",
       "0        pf_n_1    PolitiFact_Real_1    PolitiFact_Real_1\n",
       "1        pf_n_2    PolitiFact_Real_2    PolitiFact_Real_2\n",
       "2        pf_n_3    PolitiFact_Real_3    PolitiFact_Real_3\n",
       "3        pf_n_4    PolitiFact_Real_4    PolitiFact_Real_4\n",
       "4        pf_n_5    PolitiFact_Real_5    PolitiFact_Real_5\n",
       "..          ...                  ...                  ...\n",
       "235    pf_n_236  PolitiFact_Fake_116  PolitiFact_Fake_236\n",
       "236    pf_n_237  PolitiFact_Fake_117  PolitiFact_Fake_237\n",
       "237    pf_n_238  PolitiFact_Fake_118  PolitiFact_Fake_238\n",
       "238    pf_n_239  PolitiFact_Fake_119  PolitiFact_Fake_239\n",
       "239    pf_n_240  PolitiFact_Fake_120  PolitiFact_Fake_240\n",
       "\n",
       "[240 rows x 3 columns]"
      ]
     },
     "execution_count": 28,
     "metadata": {},
     "output_type": "execute_result"
    }
   ],
   "source": [
    "df_poli_news[\"news_num_id\"] = \"pf_n_\" + df_poli_news[\"news_num_id\"].astype(str)\n",
    "df_poli_news"
   ]
  },
  {
   "cell_type": "code",
   "execution_count": 29,
   "metadata": {
    "ExecuteTime": {
     "end_time": "2020-12-03T00:25:42.216005Z",
     "start_time": "2020-12-03T00:25:42.154099Z"
    }
   },
   "outputs": [],
   "source": [
    "df_pf_news = pd.merge(df_poli_news, df_all_news_cont[[\"news_alph_id\",\"news_type\"]], on = \"news_alph_id\")"
   ]
  },
  {
   "cell_type": "code",
   "execution_count": 30,
   "metadata": {
    "ExecuteTime": {
     "end_time": "2020-12-03T00:25:42.340197Z",
     "start_time": "2020-12-03T00:25:42.217884Z"
    }
   },
   "outputs": [],
   "source": [
    "with open(dir_poli_user, encoding=\"utf-8\") as file:\n",
    "    poli_user = [(_indx+1, l.rstrip(\"\\n\")) for _indx, l in enumerate(file)]\n",
    "df_poli_user = pd.DataFrame.from_records(poli_user, columns=[\"user_num_id\", \"user_alph_id\"])    \n"
   ]
  },
  {
   "cell_type": "code",
   "execution_count": 31,
   "metadata": {
    "ExecuteTime": {
     "end_time": "2020-12-03T00:25:42.422149Z",
     "start_time": "2020-12-03T00:25:42.342197Z"
    }
   },
   "outputs": [],
   "source": [
    "df_poli_user[\"user_num_id\"] = \"pf_u_\" + df_poli_user[\"user_num_id\"].astype(str)"
   ]
  },
  {
   "cell_type": "code",
   "execution_count": 32,
   "metadata": {
    "ExecuteTime": {
     "end_time": "2020-12-03T00:25:42.494035Z",
     "start_time": "2020-12-03T00:25:42.424091Z"
    }
   },
   "outputs": [],
   "source": [
    "df_poli_news_user = pd.read_csv(dir_poli_news_user, header = None, sep=\"\\t\", names = [\"news_num_id\", \"user_num_id\", \"times\"])"
   ]
  },
  {
   "cell_type": "code",
   "execution_count": 33,
   "metadata": {
    "ExecuteTime": {
     "end_time": "2020-12-03T00:25:42.616912Z",
     "start_time": "2020-12-03T00:25:42.496444Z"
    }
   },
   "outputs": [
    {
     "data": {
      "text/html": [
       "<div>\n",
       "<style scoped>\n",
       "    .dataframe tbody tr th:only-of-type {\n",
       "        vertical-align: middle;\n",
       "    }\n",
       "\n",
       "    .dataframe tbody tr th {\n",
       "        vertical-align: top;\n",
       "    }\n",
       "\n",
       "    .dataframe thead th {\n",
       "        text-align: right;\n",
       "    }\n",
       "</style>\n",
       "<table border=\"1\" class=\"dataframe\">\n",
       "  <thead>\n",
       "    <tr style=\"text-align: right;\">\n",
       "      <th></th>\n",
       "      <th>news_num_id</th>\n",
       "      <th>user_num_id</th>\n",
       "      <th>times</th>\n",
       "    </tr>\n",
       "  </thead>\n",
       "  <tbody>\n",
       "    <tr>\n",
       "      <th>0</th>\n",
       "      <td>pf_n_240</td>\n",
       "      <td>pf_u_1</td>\n",
       "      <td>1</td>\n",
       "    </tr>\n",
       "    <tr>\n",
       "      <th>1</th>\n",
       "      <td>pf_n_124</td>\n",
       "      <td>pf_u_2</td>\n",
       "      <td>1</td>\n",
       "    </tr>\n",
       "    <tr>\n",
       "      <th>2</th>\n",
       "      <td>pf_n_162</td>\n",
       "      <td>pf_u_3</td>\n",
       "      <td>1</td>\n",
       "    </tr>\n",
       "    <tr>\n",
       "      <th>3</th>\n",
       "      <td>pf_n_233</td>\n",
       "      <td>pf_u_4</td>\n",
       "      <td>1</td>\n",
       "    </tr>\n",
       "    <tr>\n",
       "      <th>4</th>\n",
       "      <td>pf_n_50</td>\n",
       "      <td>pf_u_5</td>\n",
       "      <td>1</td>\n",
       "    </tr>\n",
       "    <tr>\n",
       "      <th>...</th>\n",
       "      <td>...</td>\n",
       "      <td>...</td>\n",
       "      <td>...</td>\n",
       "    </tr>\n",
       "    <tr>\n",
       "      <th>32786</th>\n",
       "      <td>pf_n_227</td>\n",
       "      <td>pf_u_23861</td>\n",
       "      <td>1</td>\n",
       "    </tr>\n",
       "    <tr>\n",
       "      <th>32787</th>\n",
       "      <td>pf_n_155</td>\n",
       "      <td>pf_u_23862</td>\n",
       "      <td>1</td>\n",
       "    </tr>\n",
       "    <tr>\n",
       "      <th>32788</th>\n",
       "      <td>pf_n_227</td>\n",
       "      <td>pf_u_23863</td>\n",
       "      <td>2</td>\n",
       "    </tr>\n",
       "    <tr>\n",
       "      <th>32789</th>\n",
       "      <td>pf_n_147</td>\n",
       "      <td>pf_u_23864</td>\n",
       "      <td>1</td>\n",
       "    </tr>\n",
       "    <tr>\n",
       "      <th>32790</th>\n",
       "      <td>pf_n_204</td>\n",
       "      <td>pf_u_23865</td>\n",
       "      <td>1</td>\n",
       "    </tr>\n",
       "  </tbody>\n",
       "</table>\n",
       "<p>32791 rows × 3 columns</p>\n",
       "</div>"
      ],
      "text/plain": [
       "      news_num_id user_num_id  times\n",
       "0        pf_n_240      pf_u_1      1\n",
       "1        pf_n_124      pf_u_2      1\n",
       "2        pf_n_162      pf_u_3      1\n",
       "3        pf_n_233      pf_u_4      1\n",
       "4         pf_n_50      pf_u_5      1\n",
       "...           ...         ...    ...\n",
       "32786    pf_n_227  pf_u_23861      1\n",
       "32787    pf_n_155  pf_u_23862      1\n",
       "32788    pf_n_227  pf_u_23863      2\n",
       "32789    pf_n_147  pf_u_23864      1\n",
       "32790    pf_n_204  pf_u_23865      1\n",
       "\n",
       "[32791 rows x 3 columns]"
      ]
     },
     "execution_count": 33,
     "metadata": {},
     "output_type": "execute_result"
    }
   ],
   "source": [
    "df_poli_news_user[\"news_num_id\"] = \"pf_n_\" + df_poli_news_user[\"news_num_id\"].astype(str)\n",
    "df_poli_news_user[\"user_num_id\"] = \"pf_u_\" + df_poli_news_user[\"user_num_id\"].astype(str)\n",
    "\n",
    "df_poli_news_user"
   ]
  },
  {
   "cell_type": "code",
   "execution_count": 34,
   "metadata": {
    "ExecuteTime": {
     "end_time": "2020-12-03T00:25:42.721894Z",
     "start_time": "2020-12-03T00:25:42.619041Z"
    }
   },
   "outputs": [],
   "source": [
    "df_poli_user_user = pd.read_csv(dir_poli_user_user, header = None, sep=\"\\t\", names = [\"follower_num_id\", \"user_num_id\"])"
   ]
  },
  {
   "cell_type": "code",
   "execution_count": 35,
   "metadata": {
    "ExecuteTime": {
     "end_time": "2020-12-03T00:25:43.638093Z",
     "start_time": "2020-12-03T00:25:42.725354Z"
    }
   },
   "outputs": [
    {
     "data": {
      "text/html": [
       "<div>\n",
       "<style scoped>\n",
       "    .dataframe tbody tr th:only-of-type {\n",
       "        vertical-align: middle;\n",
       "    }\n",
       "\n",
       "    .dataframe tbody tr th {\n",
       "        vertical-align: top;\n",
       "    }\n",
       "\n",
       "    .dataframe thead th {\n",
       "        text-align: right;\n",
       "    }\n",
       "</style>\n",
       "<table border=\"1\" class=\"dataframe\">\n",
       "  <thead>\n",
       "    <tr style=\"text-align: right;\">\n",
       "      <th></th>\n",
       "      <th>follower_num_id</th>\n",
       "      <th>user_num_id</th>\n",
       "    </tr>\n",
       "  </thead>\n",
       "  <tbody>\n",
       "    <tr>\n",
       "      <th>0</th>\n",
       "      <td>pf_u_507</td>\n",
       "      <td>pf_u_1</td>\n",
       "    </tr>\n",
       "    <tr>\n",
       "      <th>1</th>\n",
       "      <td>pf_u_1589</td>\n",
       "      <td>pf_u_1</td>\n",
       "    </tr>\n",
       "    <tr>\n",
       "      <th>2</th>\n",
       "      <td>pf_u_5307</td>\n",
       "      <td>pf_u_1</td>\n",
       "    </tr>\n",
       "    <tr>\n",
       "      <th>3</th>\n",
       "      <td>pf_u_11421</td>\n",
       "      <td>pf_u_1</td>\n",
       "    </tr>\n",
       "    <tr>\n",
       "      <th>4</th>\n",
       "      <td>pf_u_13267</td>\n",
       "      <td>pf_u_1</td>\n",
       "    </tr>\n",
       "    <tr>\n",
       "      <th>...</th>\n",
       "      <td>...</td>\n",
       "      <td>...</td>\n",
       "    </tr>\n",
       "    <tr>\n",
       "      <th>574739</th>\n",
       "      <td>pf_u_22113</td>\n",
       "      <td>pf_u_23864</td>\n",
       "    </tr>\n",
       "    <tr>\n",
       "      <th>574740</th>\n",
       "      <td>pf_u_6324</td>\n",
       "      <td>pf_u_23865</td>\n",
       "    </tr>\n",
       "    <tr>\n",
       "      <th>574741</th>\n",
       "      <td>pf_u_10715</td>\n",
       "      <td>pf_u_23865</td>\n",
       "    </tr>\n",
       "    <tr>\n",
       "      <th>574742</th>\n",
       "      <td>pf_u_11222</td>\n",
       "      <td>pf_u_23865</td>\n",
       "    </tr>\n",
       "    <tr>\n",
       "      <th>574743</th>\n",
       "      <td>pf_u_19991</td>\n",
       "      <td>pf_u_23865</td>\n",
       "    </tr>\n",
       "  </tbody>\n",
       "</table>\n",
       "<p>574744 rows × 2 columns</p>\n",
       "</div>"
      ],
      "text/plain": [
       "       follower_num_id user_num_id\n",
       "0             pf_u_507      pf_u_1\n",
       "1            pf_u_1589      pf_u_1\n",
       "2            pf_u_5307      pf_u_1\n",
       "3           pf_u_11421      pf_u_1\n",
       "4           pf_u_13267      pf_u_1\n",
       "...                ...         ...\n",
       "574739      pf_u_22113  pf_u_23864\n",
       "574740       pf_u_6324  pf_u_23865\n",
       "574741      pf_u_10715  pf_u_23865\n",
       "574742      pf_u_11222  pf_u_23865\n",
       "574743      pf_u_19991  pf_u_23865\n",
       "\n",
       "[574744 rows x 2 columns]"
      ]
     },
     "execution_count": 35,
     "metadata": {},
     "output_type": "execute_result"
    }
   ],
   "source": [
    "df_poli_user_user[\"follower_num_id\"] = \"pf_u_\" + df_poli_user_user[\"follower_num_id\"].astype(str)\n",
    "df_poli_user_user[\"user_num_id\"] = \"pf_u_\" + df_poli_user_user[\"user_num_id\"].astype(str)\n",
    "\n",
    "df_poli_user_user"
   ]
  },
  {
   "cell_type": "markdown",
   "metadata": {},
   "source": [
    "My dataframes"
   ]
  },
  {
   "cell_type": "code",
   "execution_count": 36,
   "metadata": {
    "ExecuteTime": {
     "end_time": "2020-12-03T00:25:43.663101Z",
     "start_time": "2020-12-03T00:25:43.640306Z"
    }
   },
   "outputs": [
    {
     "data": {
      "text/html": [
       "<div>\n",
       "<style scoped>\n",
       "    .dataframe tbody tr th:only-of-type {\n",
       "        vertical-align: middle;\n",
       "    }\n",
       "\n",
       "    .dataframe tbody tr th {\n",
       "        vertical-align: top;\n",
       "    }\n",
       "\n",
       "    .dataframe thead th {\n",
       "        text-align: right;\n",
       "    }\n",
       "</style>\n",
       "<table border=\"1\" class=\"dataframe\">\n",
       "  <thead>\n",
       "    <tr style=\"text-align: right;\">\n",
       "      <th></th>\n",
       "      <th>news_num_id</th>\n",
       "      <th>news_alph_id</th>\n",
       "      <th>news_id_real</th>\n",
       "      <th>news_type</th>\n",
       "    </tr>\n",
       "  </thead>\n",
       "  <tbody>\n",
       "    <tr>\n",
       "      <th>0</th>\n",
       "      <td>bf_n_1</td>\n",
       "      <td>BuzzFeed_Real_1</td>\n",
       "      <td>BuzzFeed_Real_1</td>\n",
       "      <td>real</td>\n",
       "    </tr>\n",
       "    <tr>\n",
       "      <th>1</th>\n",
       "      <td>bf_n_2</td>\n",
       "      <td>BuzzFeed_Real_2</td>\n",
       "      <td>BuzzFeed_Real_2</td>\n",
       "      <td>real</td>\n",
       "    </tr>\n",
       "    <tr>\n",
       "      <th>2</th>\n",
       "      <td>bf_n_3</td>\n",
       "      <td>BuzzFeed_Real_3</td>\n",
       "      <td>BuzzFeed_Real_3</td>\n",
       "      <td>real</td>\n",
       "    </tr>\n",
       "    <tr>\n",
       "      <th>3</th>\n",
       "      <td>bf_n_4</td>\n",
       "      <td>BuzzFeed_Real_4</td>\n",
       "      <td>BuzzFeed_Real_4</td>\n",
       "      <td>real</td>\n",
       "    </tr>\n",
       "    <tr>\n",
       "      <th>4</th>\n",
       "      <td>bf_n_5</td>\n",
       "      <td>BuzzFeed_Real_5</td>\n",
       "      <td>BuzzFeed_Real_5</td>\n",
       "      <td>real</td>\n",
       "    </tr>\n",
       "    <tr>\n",
       "      <th>...</th>\n",
       "      <td>...</td>\n",
       "      <td>...</td>\n",
       "      <td>...</td>\n",
       "      <td>...</td>\n",
       "    </tr>\n",
       "    <tr>\n",
       "      <th>177</th>\n",
       "      <td>bf_n_178</td>\n",
       "      <td>BuzzFeed_Fake_87</td>\n",
       "      <td>BuzzFeed_Fake_178</td>\n",
       "      <td>fake</td>\n",
       "    </tr>\n",
       "    <tr>\n",
       "      <th>178</th>\n",
       "      <td>bf_n_179</td>\n",
       "      <td>BuzzFeed_Fake_88</td>\n",
       "      <td>BuzzFeed_Fake_179</td>\n",
       "      <td>fake</td>\n",
       "    </tr>\n",
       "    <tr>\n",
       "      <th>179</th>\n",
       "      <td>bf_n_180</td>\n",
       "      <td>BuzzFeed_Fake_89</td>\n",
       "      <td>BuzzFeed_Fake_180</td>\n",
       "      <td>fake</td>\n",
       "    </tr>\n",
       "    <tr>\n",
       "      <th>180</th>\n",
       "      <td>bf_n_181</td>\n",
       "      <td>BuzzFeed_Fake_90</td>\n",
       "      <td>BuzzFeed_Fake_181</td>\n",
       "      <td>fake</td>\n",
       "    </tr>\n",
       "    <tr>\n",
       "      <th>181</th>\n",
       "      <td>bf_n_182</td>\n",
       "      <td>BuzzFeed_Fake_91</td>\n",
       "      <td>BuzzFeed_Fake_182</td>\n",
       "      <td>fake</td>\n",
       "    </tr>\n",
       "  </tbody>\n",
       "</table>\n",
       "<p>182 rows × 4 columns</p>\n",
       "</div>"
      ],
      "text/plain": [
       "    news_num_id      news_alph_id       news_id_real news_type\n",
       "0        bf_n_1   BuzzFeed_Real_1    BuzzFeed_Real_1      real\n",
       "1        bf_n_2   BuzzFeed_Real_2    BuzzFeed_Real_2      real\n",
       "2        bf_n_3   BuzzFeed_Real_3    BuzzFeed_Real_3      real\n",
       "3        bf_n_4   BuzzFeed_Real_4    BuzzFeed_Real_4      real\n",
       "4        bf_n_5   BuzzFeed_Real_5    BuzzFeed_Real_5      real\n",
       "..          ...               ...                ...       ...\n",
       "177    bf_n_178  BuzzFeed_Fake_87  BuzzFeed_Fake_178      fake\n",
       "178    bf_n_179  BuzzFeed_Fake_88  BuzzFeed_Fake_179      fake\n",
       "179    bf_n_180  BuzzFeed_Fake_89  BuzzFeed_Fake_180      fake\n",
       "180    bf_n_181  BuzzFeed_Fake_90  BuzzFeed_Fake_181      fake\n",
       "181    bf_n_182  BuzzFeed_Fake_91  BuzzFeed_Fake_182      fake\n",
       "\n",
       "[182 rows x 4 columns]"
      ]
     },
     "execution_count": 36,
     "metadata": {},
     "output_type": "execute_result"
    }
   ],
   "source": [
    "df_bf_news ## all type of news id, news type"
   ]
  },
  {
   "cell_type": "code",
   "execution_count": 37,
   "metadata": {
    "ExecuteTime": {
     "end_time": "2020-12-03T00:25:43.738975Z",
     "start_time": "2020-12-03T00:25:43.664980Z"
    }
   },
   "outputs": [
    {
     "data": {
      "text/html": [
       "<div>\n",
       "<style scoped>\n",
       "    .dataframe tbody tr th:only-of-type {\n",
       "        vertical-align: middle;\n",
       "    }\n",
       "\n",
       "    .dataframe tbody tr th {\n",
       "        vertical-align: top;\n",
       "    }\n",
       "\n",
       "    .dataframe thead th {\n",
       "        text-align: right;\n",
       "    }\n",
       "</style>\n",
       "<table border=\"1\" class=\"dataframe\">\n",
       "  <thead>\n",
       "    <tr style=\"text-align: right;\">\n",
       "      <th></th>\n",
       "      <th>news_num_id</th>\n",
       "      <th>news_alph_id</th>\n",
       "      <th>news_id_real</th>\n",
       "      <th>news_type</th>\n",
       "    </tr>\n",
       "  </thead>\n",
       "  <tbody>\n",
       "    <tr>\n",
       "      <th>0</th>\n",
       "      <td>pf_n_1</td>\n",
       "      <td>PolitiFact_Real_1</td>\n",
       "      <td>PolitiFact_Real_1</td>\n",
       "      <td>real</td>\n",
       "    </tr>\n",
       "    <tr>\n",
       "      <th>1</th>\n",
       "      <td>pf_n_2</td>\n",
       "      <td>PolitiFact_Real_2</td>\n",
       "      <td>PolitiFact_Real_2</td>\n",
       "      <td>real</td>\n",
       "    </tr>\n",
       "    <tr>\n",
       "      <th>2</th>\n",
       "      <td>pf_n_3</td>\n",
       "      <td>PolitiFact_Real_3</td>\n",
       "      <td>PolitiFact_Real_3</td>\n",
       "      <td>real</td>\n",
       "    </tr>\n",
       "    <tr>\n",
       "      <th>3</th>\n",
       "      <td>pf_n_4</td>\n",
       "      <td>PolitiFact_Real_4</td>\n",
       "      <td>PolitiFact_Real_4</td>\n",
       "      <td>real</td>\n",
       "    </tr>\n",
       "    <tr>\n",
       "      <th>4</th>\n",
       "      <td>pf_n_5</td>\n",
       "      <td>PolitiFact_Real_5</td>\n",
       "      <td>PolitiFact_Real_5</td>\n",
       "      <td>real</td>\n",
       "    </tr>\n",
       "    <tr>\n",
       "      <th>...</th>\n",
       "      <td>...</td>\n",
       "      <td>...</td>\n",
       "      <td>...</td>\n",
       "      <td>...</td>\n",
       "    </tr>\n",
       "    <tr>\n",
       "      <th>235</th>\n",
       "      <td>pf_n_236</td>\n",
       "      <td>PolitiFact_Fake_116</td>\n",
       "      <td>PolitiFact_Fake_236</td>\n",
       "      <td>fake</td>\n",
       "    </tr>\n",
       "    <tr>\n",
       "      <th>236</th>\n",
       "      <td>pf_n_237</td>\n",
       "      <td>PolitiFact_Fake_117</td>\n",
       "      <td>PolitiFact_Fake_237</td>\n",
       "      <td>fake</td>\n",
       "    </tr>\n",
       "    <tr>\n",
       "      <th>237</th>\n",
       "      <td>pf_n_238</td>\n",
       "      <td>PolitiFact_Fake_118</td>\n",
       "      <td>PolitiFact_Fake_238</td>\n",
       "      <td>fake</td>\n",
       "    </tr>\n",
       "    <tr>\n",
       "      <th>238</th>\n",
       "      <td>pf_n_239</td>\n",
       "      <td>PolitiFact_Fake_119</td>\n",
       "      <td>PolitiFact_Fake_239</td>\n",
       "      <td>fake</td>\n",
       "    </tr>\n",
       "    <tr>\n",
       "      <th>239</th>\n",
       "      <td>pf_n_240</td>\n",
       "      <td>PolitiFact_Fake_120</td>\n",
       "      <td>PolitiFact_Fake_240</td>\n",
       "      <td>fake</td>\n",
       "    </tr>\n",
       "  </tbody>\n",
       "</table>\n",
       "<p>240 rows × 4 columns</p>\n",
       "</div>"
      ],
      "text/plain": [
       "    news_num_id         news_alph_id         news_id_real news_type\n",
       "0        pf_n_1    PolitiFact_Real_1    PolitiFact_Real_1      real\n",
       "1        pf_n_2    PolitiFact_Real_2    PolitiFact_Real_2      real\n",
       "2        pf_n_3    PolitiFact_Real_3    PolitiFact_Real_3      real\n",
       "3        pf_n_4    PolitiFact_Real_4    PolitiFact_Real_4      real\n",
       "4        pf_n_5    PolitiFact_Real_5    PolitiFact_Real_5      real\n",
       "..          ...                  ...                  ...       ...\n",
       "235    pf_n_236  PolitiFact_Fake_116  PolitiFact_Fake_236      fake\n",
       "236    pf_n_237  PolitiFact_Fake_117  PolitiFact_Fake_237      fake\n",
       "237    pf_n_238  PolitiFact_Fake_118  PolitiFact_Fake_238      fake\n",
       "238    pf_n_239  PolitiFact_Fake_119  PolitiFact_Fake_239      fake\n",
       "239    pf_n_240  PolitiFact_Fake_120  PolitiFact_Fake_240      fake\n",
       "\n",
       "[240 rows x 4 columns]"
      ]
     },
     "execution_count": 37,
     "metadata": {},
     "output_type": "execute_result"
    }
   ],
   "source": [
    "df_pf_news"
   ]
  },
  {
   "cell_type": "code",
   "execution_count": 38,
   "metadata": {
    "ExecuteTime": {
     "end_time": "2020-12-03T00:25:43.872537Z",
     "start_time": "2020-12-03T00:25:43.740813Z"
    }
   },
   "outputs": [],
   "source": [
    "df_all_news_id_lbl = pd.concat([df_bf_news, df_pf_news])"
   ]
  },
  {
   "cell_type": "code",
   "execution_count": 39,
   "metadata": {
    "ExecuteTime": {
     "end_time": "2020-12-03T00:25:43.954109Z",
     "start_time": "2020-12-03T00:25:43.873876Z"
    }
   },
   "outputs": [],
   "source": [
    "df_all_news_id_lbl.reset_index(drop=True, inplace=True)"
   ]
  },
  {
   "cell_type": "code",
   "execution_count": 40,
   "metadata": {
    "ExecuteTime": {
     "end_time": "2020-12-03T00:25:44.082518Z",
     "start_time": "2020-12-03T00:25:43.955995Z"
    }
   },
   "outputs": [
    {
     "data": {
      "text/html": [
       "<div>\n",
       "<style scoped>\n",
       "    .dataframe tbody tr th:only-of-type {\n",
       "        vertical-align: middle;\n",
       "    }\n",
       "\n",
       "    .dataframe tbody tr th {\n",
       "        vertical-align: top;\n",
       "    }\n",
       "\n",
       "    .dataframe thead th {\n",
       "        text-align: right;\n",
       "    }\n",
       "</style>\n",
       "<table border=\"1\" class=\"dataframe\">\n",
       "  <thead>\n",
       "    <tr style=\"text-align: right;\">\n",
       "      <th></th>\n",
       "      <th>news_num_id</th>\n",
       "      <th>news_alph_id</th>\n",
       "      <th>news_id_real</th>\n",
       "      <th>news_type</th>\n",
       "    </tr>\n",
       "  </thead>\n",
       "  <tbody>\n",
       "    <tr>\n",
       "      <th>0</th>\n",
       "      <td>bf_n_1</td>\n",
       "      <td>BuzzFeed_Real_1</td>\n",
       "      <td>BuzzFeed_Real_1</td>\n",
       "      <td>real</td>\n",
       "    </tr>\n",
       "    <tr>\n",
       "      <th>1</th>\n",
       "      <td>bf_n_2</td>\n",
       "      <td>BuzzFeed_Real_2</td>\n",
       "      <td>BuzzFeed_Real_2</td>\n",
       "      <td>real</td>\n",
       "    </tr>\n",
       "    <tr>\n",
       "      <th>2</th>\n",
       "      <td>bf_n_3</td>\n",
       "      <td>BuzzFeed_Real_3</td>\n",
       "      <td>BuzzFeed_Real_3</td>\n",
       "      <td>real</td>\n",
       "    </tr>\n",
       "    <tr>\n",
       "      <th>3</th>\n",
       "      <td>bf_n_4</td>\n",
       "      <td>BuzzFeed_Real_4</td>\n",
       "      <td>BuzzFeed_Real_4</td>\n",
       "      <td>real</td>\n",
       "    </tr>\n",
       "    <tr>\n",
       "      <th>4</th>\n",
       "      <td>bf_n_5</td>\n",
       "      <td>BuzzFeed_Real_5</td>\n",
       "      <td>BuzzFeed_Real_5</td>\n",
       "      <td>real</td>\n",
       "    </tr>\n",
       "    <tr>\n",
       "      <th>...</th>\n",
       "      <td>...</td>\n",
       "      <td>...</td>\n",
       "      <td>...</td>\n",
       "      <td>...</td>\n",
       "    </tr>\n",
       "    <tr>\n",
       "      <th>417</th>\n",
       "      <td>pf_n_236</td>\n",
       "      <td>PolitiFact_Fake_116</td>\n",
       "      <td>PolitiFact_Fake_236</td>\n",
       "      <td>fake</td>\n",
       "    </tr>\n",
       "    <tr>\n",
       "      <th>418</th>\n",
       "      <td>pf_n_237</td>\n",
       "      <td>PolitiFact_Fake_117</td>\n",
       "      <td>PolitiFact_Fake_237</td>\n",
       "      <td>fake</td>\n",
       "    </tr>\n",
       "    <tr>\n",
       "      <th>419</th>\n",
       "      <td>pf_n_238</td>\n",
       "      <td>PolitiFact_Fake_118</td>\n",
       "      <td>PolitiFact_Fake_238</td>\n",
       "      <td>fake</td>\n",
       "    </tr>\n",
       "    <tr>\n",
       "      <th>420</th>\n",
       "      <td>pf_n_239</td>\n",
       "      <td>PolitiFact_Fake_119</td>\n",
       "      <td>PolitiFact_Fake_239</td>\n",
       "      <td>fake</td>\n",
       "    </tr>\n",
       "    <tr>\n",
       "      <th>421</th>\n",
       "      <td>pf_n_240</td>\n",
       "      <td>PolitiFact_Fake_120</td>\n",
       "      <td>PolitiFact_Fake_240</td>\n",
       "      <td>fake</td>\n",
       "    </tr>\n",
       "  </tbody>\n",
       "</table>\n",
       "<p>422 rows × 4 columns</p>\n",
       "</div>"
      ],
      "text/plain": [
       "    news_num_id         news_alph_id         news_id_real news_type\n",
       "0        bf_n_1      BuzzFeed_Real_1      BuzzFeed_Real_1      real\n",
       "1        bf_n_2      BuzzFeed_Real_2      BuzzFeed_Real_2      real\n",
       "2        bf_n_3      BuzzFeed_Real_3      BuzzFeed_Real_3      real\n",
       "3        bf_n_4      BuzzFeed_Real_4      BuzzFeed_Real_4      real\n",
       "4        bf_n_5      BuzzFeed_Real_5      BuzzFeed_Real_5      real\n",
       "..          ...                  ...                  ...       ...\n",
       "417    pf_n_236  PolitiFact_Fake_116  PolitiFact_Fake_236      fake\n",
       "418    pf_n_237  PolitiFact_Fake_117  PolitiFact_Fake_237      fake\n",
       "419    pf_n_238  PolitiFact_Fake_118  PolitiFact_Fake_238      fake\n",
       "420    pf_n_239  PolitiFact_Fake_119  PolitiFact_Fake_239      fake\n",
       "421    pf_n_240  PolitiFact_Fake_120  PolitiFact_Fake_240      fake\n",
       "\n",
       "[422 rows x 4 columns]"
      ]
     },
     "execution_count": 40,
     "metadata": {},
     "output_type": "execute_result"
    }
   ],
   "source": [
    "df_all_news_id_lbl"
   ]
  },
  {
   "cell_type": "code",
   "execution_count": 41,
   "metadata": {
    "ExecuteTime": {
     "end_time": "2020-12-03T00:25:44.187949Z",
     "start_time": "2020-12-03T00:25:44.084375Z"
    }
   },
   "outputs": [],
   "source": [
    "df_bf_news_user = pd.merge(df_bf_news_user, df_all_news_id_lbl, on = \"news_num_id\")"
   ]
  },
  {
   "cell_type": "code",
   "execution_count": 42,
   "metadata": {
    "ExecuteTime": {
     "end_time": "2020-12-03T00:25:44.281970Z",
     "start_time": "2020-12-03T00:25:44.190905Z"
    }
   },
   "outputs": [
    {
     "data": {
      "text/html": [
       "<div>\n",
       "<style scoped>\n",
       "    .dataframe tbody tr th:only-of-type {\n",
       "        vertical-align: middle;\n",
       "    }\n",
       "\n",
       "    .dataframe tbody tr th {\n",
       "        vertical-align: top;\n",
       "    }\n",
       "\n",
       "    .dataframe thead th {\n",
       "        text-align: right;\n",
       "    }\n",
       "</style>\n",
       "<table border=\"1\" class=\"dataframe\">\n",
       "  <thead>\n",
       "    <tr style=\"text-align: right;\">\n",
       "      <th></th>\n",
       "      <th>news_num_id</th>\n",
       "      <th>user_num_id</th>\n",
       "      <th>times</th>\n",
       "      <th>news_alph_id</th>\n",
       "      <th>news_id_real</th>\n",
       "      <th>news_type</th>\n",
       "    </tr>\n",
       "  </thead>\n",
       "  <tbody>\n",
       "    <tr>\n",
       "      <th>0</th>\n",
       "      <td>bf_n_45</td>\n",
       "      <td>bf_u_1</td>\n",
       "      <td>1</td>\n",
       "      <td>BuzzFeed_Real_45</td>\n",
       "      <td>BuzzFeed_Real_45</td>\n",
       "      <td>real</td>\n",
       "    </tr>\n",
       "    <tr>\n",
       "      <th>1</th>\n",
       "      <td>bf_n_45</td>\n",
       "      <td>bf_u_6</td>\n",
       "      <td>1</td>\n",
       "      <td>BuzzFeed_Real_45</td>\n",
       "      <td>BuzzFeed_Real_45</td>\n",
       "      <td>real</td>\n",
       "    </tr>\n",
       "    <tr>\n",
       "      <th>2</th>\n",
       "      <td>bf_n_45</td>\n",
       "      <td>bf_u_7</td>\n",
       "      <td>1</td>\n",
       "      <td>BuzzFeed_Real_45</td>\n",
       "      <td>BuzzFeed_Real_45</td>\n",
       "      <td>real</td>\n",
       "    </tr>\n",
       "    <tr>\n",
       "      <th>3</th>\n",
       "      <td>bf_n_45</td>\n",
       "      <td>bf_u_8</td>\n",
       "      <td>1</td>\n",
       "      <td>BuzzFeed_Real_45</td>\n",
       "      <td>BuzzFeed_Real_45</td>\n",
       "      <td>real</td>\n",
       "    </tr>\n",
       "    <tr>\n",
       "      <th>4</th>\n",
       "      <td>bf_n_45</td>\n",
       "      <td>bf_u_18</td>\n",
       "      <td>1</td>\n",
       "      <td>BuzzFeed_Real_45</td>\n",
       "      <td>BuzzFeed_Real_45</td>\n",
       "      <td>real</td>\n",
       "    </tr>\n",
       "    <tr>\n",
       "      <th>...</th>\n",
       "      <td>...</td>\n",
       "      <td>...</td>\n",
       "      <td>...</td>\n",
       "      <td>...</td>\n",
       "      <td>...</td>\n",
       "      <td>...</td>\n",
       "    </tr>\n",
       "    <tr>\n",
       "      <th>22774</th>\n",
       "      <td>bf_n_134</td>\n",
       "      <td>bf_u_14844</td>\n",
       "      <td>1</td>\n",
       "      <td>BuzzFeed_Fake_43</td>\n",
       "      <td>BuzzFeed_Fake_134</td>\n",
       "      <td>fake</td>\n",
       "    </tr>\n",
       "    <tr>\n",
       "      <th>22775</th>\n",
       "      <td>bf_n_63</td>\n",
       "      <td>bf_u_11398</td>\n",
       "      <td>1</td>\n",
       "      <td>BuzzFeed_Real_63</td>\n",
       "      <td>BuzzFeed_Real_63</td>\n",
       "      <td>real</td>\n",
       "    </tr>\n",
       "    <tr>\n",
       "      <th>22776</th>\n",
       "      <td>bf_n_47</td>\n",
       "      <td>bf_u_11887</td>\n",
       "      <td>1</td>\n",
       "      <td>BuzzFeed_Real_47</td>\n",
       "      <td>BuzzFeed_Real_47</td>\n",
       "      <td>real</td>\n",
       "    </tr>\n",
       "    <tr>\n",
       "      <th>22777</th>\n",
       "      <td>bf_n_47</td>\n",
       "      <td>bf_u_12499</td>\n",
       "      <td>1</td>\n",
       "      <td>BuzzFeed_Real_47</td>\n",
       "      <td>BuzzFeed_Real_47</td>\n",
       "      <td>real</td>\n",
       "    </tr>\n",
       "    <tr>\n",
       "      <th>22778</th>\n",
       "      <td>bf_n_117</td>\n",
       "      <td>bf_u_11887</td>\n",
       "      <td>1</td>\n",
       "      <td>BuzzFeed_Fake_26</td>\n",
       "      <td>BuzzFeed_Fake_117</td>\n",
       "      <td>fake</td>\n",
       "    </tr>\n",
       "  </tbody>\n",
       "</table>\n",
       "<p>22779 rows × 6 columns</p>\n",
       "</div>"
      ],
      "text/plain": [
       "      news_num_id user_num_id  times      news_alph_id       news_id_real  \\\n",
       "0         bf_n_45      bf_u_1      1  BuzzFeed_Real_45   BuzzFeed_Real_45   \n",
       "1         bf_n_45      bf_u_6      1  BuzzFeed_Real_45   BuzzFeed_Real_45   \n",
       "2         bf_n_45      bf_u_7      1  BuzzFeed_Real_45   BuzzFeed_Real_45   \n",
       "3         bf_n_45      bf_u_8      1  BuzzFeed_Real_45   BuzzFeed_Real_45   \n",
       "4         bf_n_45     bf_u_18      1  BuzzFeed_Real_45   BuzzFeed_Real_45   \n",
       "...           ...         ...    ...               ...                ...   \n",
       "22774    bf_n_134  bf_u_14844      1  BuzzFeed_Fake_43  BuzzFeed_Fake_134   \n",
       "22775     bf_n_63  bf_u_11398      1  BuzzFeed_Real_63   BuzzFeed_Real_63   \n",
       "22776     bf_n_47  bf_u_11887      1  BuzzFeed_Real_47   BuzzFeed_Real_47   \n",
       "22777     bf_n_47  bf_u_12499      1  BuzzFeed_Real_47   BuzzFeed_Real_47   \n",
       "22778    bf_n_117  bf_u_11887      1  BuzzFeed_Fake_26  BuzzFeed_Fake_117   \n",
       "\n",
       "      news_type  \n",
       "0          real  \n",
       "1          real  \n",
       "2          real  \n",
       "3          real  \n",
       "4          real  \n",
       "...         ...  \n",
       "22774      fake  \n",
       "22775      real  \n",
       "22776      real  \n",
       "22777      real  \n",
       "22778      fake  \n",
       "\n",
       "[22779 rows x 6 columns]"
      ]
     },
     "execution_count": 42,
     "metadata": {},
     "output_type": "execute_result"
    }
   ],
   "source": [
    "df_bf_news_user"
   ]
  },
  {
   "cell_type": "code",
   "execution_count": 43,
   "metadata": {
    "ExecuteTime": {
     "end_time": "2020-12-03T00:25:44.407247Z",
     "start_time": "2020-12-03T00:25:44.284094Z"
    }
   },
   "outputs": [],
   "source": [
    "df_pf_news_user = pd.merge(df_poli_news_user, df_all_news_id_lbl, on = \"news_num_id\")"
   ]
  },
  {
   "cell_type": "code",
   "execution_count": 44,
   "metadata": {
    "ExecuteTime": {
     "end_time": "2020-12-03T00:25:44.495526Z",
     "start_time": "2020-12-03T00:25:44.409242Z"
    }
   },
   "outputs": [
    {
     "data": {
      "text/html": [
       "<div>\n",
       "<style scoped>\n",
       "    .dataframe tbody tr th:only-of-type {\n",
       "        vertical-align: middle;\n",
       "    }\n",
       "\n",
       "    .dataframe tbody tr th {\n",
       "        vertical-align: top;\n",
       "    }\n",
       "\n",
       "    .dataframe thead th {\n",
       "        text-align: right;\n",
       "    }\n",
       "</style>\n",
       "<table border=\"1\" class=\"dataframe\">\n",
       "  <thead>\n",
       "    <tr style=\"text-align: right;\">\n",
       "      <th></th>\n",
       "      <th>news_num_id</th>\n",
       "      <th>user_num_id</th>\n",
       "      <th>times</th>\n",
       "      <th>news_alph_id</th>\n",
       "      <th>news_id_real</th>\n",
       "      <th>news_type</th>\n",
       "    </tr>\n",
       "  </thead>\n",
       "  <tbody>\n",
       "    <tr>\n",
       "      <th>0</th>\n",
       "      <td>pf_n_240</td>\n",
       "      <td>pf_u_1</td>\n",
       "      <td>1</td>\n",
       "      <td>PolitiFact_Fake_120</td>\n",
       "      <td>PolitiFact_Fake_240</td>\n",
       "      <td>fake</td>\n",
       "    </tr>\n",
       "    <tr>\n",
       "      <th>1</th>\n",
       "      <td>pf_n_240</td>\n",
       "      <td>pf_u_507</td>\n",
       "      <td>1</td>\n",
       "      <td>PolitiFact_Fake_120</td>\n",
       "      <td>PolitiFact_Fake_240</td>\n",
       "      <td>fake</td>\n",
       "    </tr>\n",
       "    <tr>\n",
       "      <th>2</th>\n",
       "      <td>pf_n_240</td>\n",
       "      <td>pf_u_835</td>\n",
       "      <td>2</td>\n",
       "      <td>PolitiFact_Fake_120</td>\n",
       "      <td>PolitiFact_Fake_240</td>\n",
       "      <td>fake</td>\n",
       "    </tr>\n",
       "    <tr>\n",
       "      <th>3</th>\n",
       "      <td>pf_n_240</td>\n",
       "      <td>pf_u_972</td>\n",
       "      <td>1</td>\n",
       "      <td>PolitiFact_Fake_120</td>\n",
       "      <td>PolitiFact_Fake_240</td>\n",
       "      <td>fake</td>\n",
       "    </tr>\n",
       "    <tr>\n",
       "      <th>4</th>\n",
       "      <td>pf_n_240</td>\n",
       "      <td>pf_u_992</td>\n",
       "      <td>1</td>\n",
       "      <td>PolitiFact_Fake_120</td>\n",
       "      <td>PolitiFact_Fake_240</td>\n",
       "      <td>fake</td>\n",
       "    </tr>\n",
       "    <tr>\n",
       "      <th>...</th>\n",
       "      <td>...</td>\n",
       "      <td>...</td>\n",
       "      <td>...</td>\n",
       "      <td>...</td>\n",
       "      <td>...</td>\n",
       "      <td>...</td>\n",
       "    </tr>\n",
       "    <tr>\n",
       "      <th>32786</th>\n",
       "      <td>pf_n_22</td>\n",
       "      <td>pf_u_14243</td>\n",
       "      <td>1</td>\n",
       "      <td>PolitiFact_Real_22</td>\n",
       "      <td>PolitiFact_Real_22</td>\n",
       "      <td>real</td>\n",
       "    </tr>\n",
       "    <tr>\n",
       "      <th>32787</th>\n",
       "      <td>pf_n_104</td>\n",
       "      <td>pf_u_15243</td>\n",
       "      <td>1</td>\n",
       "      <td>PolitiFact_Real_104</td>\n",
       "      <td>PolitiFact_Real_104</td>\n",
       "      <td>real</td>\n",
       "    </tr>\n",
       "    <tr>\n",
       "      <th>32788</th>\n",
       "      <td>pf_n_173</td>\n",
       "      <td>pf_u_17714</td>\n",
       "      <td>1</td>\n",
       "      <td>PolitiFact_Fake_53</td>\n",
       "      <td>PolitiFact_Fake_173</td>\n",
       "      <td>fake</td>\n",
       "    </tr>\n",
       "    <tr>\n",
       "      <th>32789</th>\n",
       "      <td>pf_n_198</td>\n",
       "      <td>pf_u_19687</td>\n",
       "      <td>1</td>\n",
       "      <td>PolitiFact_Fake_78</td>\n",
       "      <td>PolitiFact_Fake_198</td>\n",
       "      <td>fake</td>\n",
       "    </tr>\n",
       "    <tr>\n",
       "      <th>32790</th>\n",
       "      <td>pf_n_127</td>\n",
       "      <td>pf_u_21173</td>\n",
       "      <td>1</td>\n",
       "      <td>PolitiFact_Fake_7</td>\n",
       "      <td>PolitiFact_Fake_127</td>\n",
       "      <td>fake</td>\n",
       "    </tr>\n",
       "  </tbody>\n",
       "</table>\n",
       "<p>32791 rows × 6 columns</p>\n",
       "</div>"
      ],
      "text/plain": [
       "      news_num_id user_num_id  times         news_alph_id  \\\n",
       "0        pf_n_240      pf_u_1      1  PolitiFact_Fake_120   \n",
       "1        pf_n_240    pf_u_507      1  PolitiFact_Fake_120   \n",
       "2        pf_n_240    pf_u_835      2  PolitiFact_Fake_120   \n",
       "3        pf_n_240    pf_u_972      1  PolitiFact_Fake_120   \n",
       "4        pf_n_240    pf_u_992      1  PolitiFact_Fake_120   \n",
       "...           ...         ...    ...                  ...   \n",
       "32786     pf_n_22  pf_u_14243      1   PolitiFact_Real_22   \n",
       "32787    pf_n_104  pf_u_15243      1  PolitiFact_Real_104   \n",
       "32788    pf_n_173  pf_u_17714      1   PolitiFact_Fake_53   \n",
       "32789    pf_n_198  pf_u_19687      1   PolitiFact_Fake_78   \n",
       "32790    pf_n_127  pf_u_21173      1    PolitiFact_Fake_7   \n",
       "\n",
       "              news_id_real news_type  \n",
       "0      PolitiFact_Fake_240      fake  \n",
       "1      PolitiFact_Fake_240      fake  \n",
       "2      PolitiFact_Fake_240      fake  \n",
       "3      PolitiFact_Fake_240      fake  \n",
       "4      PolitiFact_Fake_240      fake  \n",
       "...                    ...       ...  \n",
       "32786   PolitiFact_Real_22      real  \n",
       "32787  PolitiFact_Real_104      real  \n",
       "32788  PolitiFact_Fake_173      fake  \n",
       "32789  PolitiFact_Fake_198      fake  \n",
       "32790  PolitiFact_Fake_127      fake  \n",
       "\n",
       "[32791 rows x 6 columns]"
      ]
     },
     "execution_count": 44,
     "metadata": {},
     "output_type": "execute_result"
    }
   ],
   "source": [
    "df_pf_news_user"
   ]
  },
  {
   "cell_type": "code",
   "execution_count": 45,
   "metadata": {
    "ExecuteTime": {
     "end_time": "2020-12-03T00:25:44.583189Z",
     "start_time": "2020-12-03T00:25:44.498958Z"
    }
   },
   "outputs": [],
   "source": [
    "df_all_news_user = pd.concat([df_bf_news_user, df_pf_news_user])"
   ]
  },
  {
   "cell_type": "code",
   "execution_count": 46,
   "metadata": {
    "ExecuteTime": {
     "end_time": "2020-12-03T00:25:44.722948Z",
     "start_time": "2020-12-03T00:25:44.586021Z"
    }
   },
   "outputs": [],
   "source": [
    "df_all_news_user.reset_index(drop=True, inplace=True)"
   ]
  },
  {
   "cell_type": "code",
   "execution_count": 47,
   "metadata": {
    "ExecuteTime": {
     "end_time": "2020-12-03T00:25:44.836307Z",
     "start_time": "2020-12-03T00:25:44.725886Z"
    }
   },
   "outputs": [
    {
     "data": {
      "text/html": [
       "<div>\n",
       "<style scoped>\n",
       "    .dataframe tbody tr th:only-of-type {\n",
       "        vertical-align: middle;\n",
       "    }\n",
       "\n",
       "    .dataframe tbody tr th {\n",
       "        vertical-align: top;\n",
       "    }\n",
       "\n",
       "    .dataframe thead th {\n",
       "        text-align: right;\n",
       "    }\n",
       "</style>\n",
       "<table border=\"1\" class=\"dataframe\">\n",
       "  <thead>\n",
       "    <tr style=\"text-align: right;\">\n",
       "      <th></th>\n",
       "      <th>news_num_id</th>\n",
       "      <th>user_num_id</th>\n",
       "      <th>times</th>\n",
       "      <th>news_alph_id</th>\n",
       "      <th>news_id_real</th>\n",
       "      <th>news_type</th>\n",
       "    </tr>\n",
       "  </thead>\n",
       "  <tbody>\n",
       "    <tr>\n",
       "      <th>0</th>\n",
       "      <td>bf_n_45</td>\n",
       "      <td>bf_u_1</td>\n",
       "      <td>1</td>\n",
       "      <td>BuzzFeed_Real_45</td>\n",
       "      <td>BuzzFeed_Real_45</td>\n",
       "      <td>real</td>\n",
       "    </tr>\n",
       "    <tr>\n",
       "      <th>1</th>\n",
       "      <td>bf_n_45</td>\n",
       "      <td>bf_u_6</td>\n",
       "      <td>1</td>\n",
       "      <td>BuzzFeed_Real_45</td>\n",
       "      <td>BuzzFeed_Real_45</td>\n",
       "      <td>real</td>\n",
       "    </tr>\n",
       "    <tr>\n",
       "      <th>2</th>\n",
       "      <td>bf_n_45</td>\n",
       "      <td>bf_u_7</td>\n",
       "      <td>1</td>\n",
       "      <td>BuzzFeed_Real_45</td>\n",
       "      <td>BuzzFeed_Real_45</td>\n",
       "      <td>real</td>\n",
       "    </tr>\n",
       "    <tr>\n",
       "      <th>3</th>\n",
       "      <td>bf_n_45</td>\n",
       "      <td>bf_u_8</td>\n",
       "      <td>1</td>\n",
       "      <td>BuzzFeed_Real_45</td>\n",
       "      <td>BuzzFeed_Real_45</td>\n",
       "      <td>real</td>\n",
       "    </tr>\n",
       "    <tr>\n",
       "      <th>4</th>\n",
       "      <td>bf_n_45</td>\n",
       "      <td>bf_u_18</td>\n",
       "      <td>1</td>\n",
       "      <td>BuzzFeed_Real_45</td>\n",
       "      <td>BuzzFeed_Real_45</td>\n",
       "      <td>real</td>\n",
       "    </tr>\n",
       "    <tr>\n",
       "      <th>...</th>\n",
       "      <td>...</td>\n",
       "      <td>...</td>\n",
       "      <td>...</td>\n",
       "      <td>...</td>\n",
       "      <td>...</td>\n",
       "      <td>...</td>\n",
       "    </tr>\n",
       "    <tr>\n",
       "      <th>55565</th>\n",
       "      <td>pf_n_22</td>\n",
       "      <td>pf_u_14243</td>\n",
       "      <td>1</td>\n",
       "      <td>PolitiFact_Real_22</td>\n",
       "      <td>PolitiFact_Real_22</td>\n",
       "      <td>real</td>\n",
       "    </tr>\n",
       "    <tr>\n",
       "      <th>55566</th>\n",
       "      <td>pf_n_104</td>\n",
       "      <td>pf_u_15243</td>\n",
       "      <td>1</td>\n",
       "      <td>PolitiFact_Real_104</td>\n",
       "      <td>PolitiFact_Real_104</td>\n",
       "      <td>real</td>\n",
       "    </tr>\n",
       "    <tr>\n",
       "      <th>55567</th>\n",
       "      <td>pf_n_173</td>\n",
       "      <td>pf_u_17714</td>\n",
       "      <td>1</td>\n",
       "      <td>PolitiFact_Fake_53</td>\n",
       "      <td>PolitiFact_Fake_173</td>\n",
       "      <td>fake</td>\n",
       "    </tr>\n",
       "    <tr>\n",
       "      <th>55568</th>\n",
       "      <td>pf_n_198</td>\n",
       "      <td>pf_u_19687</td>\n",
       "      <td>1</td>\n",
       "      <td>PolitiFact_Fake_78</td>\n",
       "      <td>PolitiFact_Fake_198</td>\n",
       "      <td>fake</td>\n",
       "    </tr>\n",
       "    <tr>\n",
       "      <th>55569</th>\n",
       "      <td>pf_n_127</td>\n",
       "      <td>pf_u_21173</td>\n",
       "      <td>1</td>\n",
       "      <td>PolitiFact_Fake_7</td>\n",
       "      <td>PolitiFact_Fake_127</td>\n",
       "      <td>fake</td>\n",
       "    </tr>\n",
       "  </tbody>\n",
       "</table>\n",
       "<p>55570 rows × 6 columns</p>\n",
       "</div>"
      ],
      "text/plain": [
       "      news_num_id user_num_id  times         news_alph_id  \\\n",
       "0         bf_n_45      bf_u_1      1     BuzzFeed_Real_45   \n",
       "1         bf_n_45      bf_u_6      1     BuzzFeed_Real_45   \n",
       "2         bf_n_45      bf_u_7      1     BuzzFeed_Real_45   \n",
       "3         bf_n_45      bf_u_8      1     BuzzFeed_Real_45   \n",
       "4         bf_n_45     bf_u_18      1     BuzzFeed_Real_45   \n",
       "...           ...         ...    ...                  ...   \n",
       "55565     pf_n_22  pf_u_14243      1   PolitiFact_Real_22   \n",
       "55566    pf_n_104  pf_u_15243      1  PolitiFact_Real_104   \n",
       "55567    pf_n_173  pf_u_17714      1   PolitiFact_Fake_53   \n",
       "55568    pf_n_198  pf_u_19687      1   PolitiFact_Fake_78   \n",
       "55569    pf_n_127  pf_u_21173      1    PolitiFact_Fake_7   \n",
       "\n",
       "              news_id_real news_type  \n",
       "0         BuzzFeed_Real_45      real  \n",
       "1         BuzzFeed_Real_45      real  \n",
       "2         BuzzFeed_Real_45      real  \n",
       "3         BuzzFeed_Real_45      real  \n",
       "4         BuzzFeed_Real_45      real  \n",
       "...                    ...       ...  \n",
       "55565   PolitiFact_Real_22      real  \n",
       "55566  PolitiFact_Real_104      real  \n",
       "55567  PolitiFact_Fake_173      fake  \n",
       "55568  PolitiFact_Fake_198      fake  \n",
       "55569  PolitiFact_Fake_127      fake  \n",
       "\n",
       "[55570 rows x 6 columns]"
      ]
     },
     "execution_count": 47,
     "metadata": {},
     "output_type": "execute_result"
    }
   ],
   "source": [
    "df_all_news_user"
   ]
  },
  {
   "cell_type": "code",
   "execution_count": 48,
   "metadata": {
    "ExecuteTime": {
     "end_time": "2020-12-03T00:25:45.086982Z",
     "start_time": "2020-12-03T00:25:44.839642Z"
    }
   },
   "outputs": [],
   "source": [
    "df_all_user_user = pd.concat([df_bf_user_user,df_poli_user_user])"
   ]
  },
  {
   "cell_type": "code",
   "execution_count": 49,
   "metadata": {
    "ExecuteTime": {
     "end_time": "2020-12-03T00:25:45.092320Z",
     "start_time": "2020-12-03T00:25:45.089009Z"
    }
   },
   "outputs": [],
   "source": [
    "df_all_user_user.reset_index(drop=True, inplace=True)"
   ]
  },
  {
   "cell_type": "code",
   "execution_count": 50,
   "metadata": {
    "ExecuteTime": {
     "end_time": "2020-12-03T00:25:45.337197Z",
     "start_time": "2020-12-03T00:25:45.094677Z"
    }
   },
   "outputs": [
    {
     "data": {
      "text/html": [
       "<div>\n",
       "<style scoped>\n",
       "    .dataframe tbody tr th:only-of-type {\n",
       "        vertical-align: middle;\n",
       "    }\n",
       "\n",
       "    .dataframe tbody tr th {\n",
       "        vertical-align: top;\n",
       "    }\n",
       "\n",
       "    .dataframe thead th {\n",
       "        text-align: right;\n",
       "    }\n",
       "</style>\n",
       "<table border=\"1\" class=\"dataframe\">\n",
       "  <thead>\n",
       "    <tr style=\"text-align: right;\">\n",
       "      <th></th>\n",
       "      <th>follower_num_id</th>\n",
       "      <th>user_num_id</th>\n",
       "    </tr>\n",
       "  </thead>\n",
       "  <tbody>\n",
       "    <tr>\n",
       "      <th>0</th>\n",
       "      <td>bf_u_48</td>\n",
       "      <td>bf_u_1</td>\n",
       "    </tr>\n",
       "    <tr>\n",
       "      <th>1</th>\n",
       "      <td>bf_u_899</td>\n",
       "      <td>bf_u_1</td>\n",
       "    </tr>\n",
       "    <tr>\n",
       "      <th>2</th>\n",
       "      <td>bf_u_6781</td>\n",
       "      <td>bf_u_1</td>\n",
       "    </tr>\n",
       "    <tr>\n",
       "      <th>3</th>\n",
       "      <td>bf_u_10097</td>\n",
       "      <td>bf_u_1</td>\n",
       "    </tr>\n",
       "    <tr>\n",
       "      <th>4</th>\n",
       "      <td>bf_u_100</td>\n",
       "      <td>bf_u_2</td>\n",
       "    </tr>\n",
       "    <tr>\n",
       "      <th>...</th>\n",
       "      <td>...</td>\n",
       "      <td>...</td>\n",
       "    </tr>\n",
       "    <tr>\n",
       "      <th>1209489</th>\n",
       "      <td>pf_u_22113</td>\n",
       "      <td>pf_u_23864</td>\n",
       "    </tr>\n",
       "    <tr>\n",
       "      <th>1209490</th>\n",
       "      <td>pf_u_6324</td>\n",
       "      <td>pf_u_23865</td>\n",
       "    </tr>\n",
       "    <tr>\n",
       "      <th>1209491</th>\n",
       "      <td>pf_u_10715</td>\n",
       "      <td>pf_u_23865</td>\n",
       "    </tr>\n",
       "    <tr>\n",
       "      <th>1209492</th>\n",
       "      <td>pf_u_11222</td>\n",
       "      <td>pf_u_23865</td>\n",
       "    </tr>\n",
       "    <tr>\n",
       "      <th>1209493</th>\n",
       "      <td>pf_u_19991</td>\n",
       "      <td>pf_u_23865</td>\n",
       "    </tr>\n",
       "  </tbody>\n",
       "</table>\n",
       "<p>1209494 rows × 2 columns</p>\n",
       "</div>"
      ],
      "text/plain": [
       "        follower_num_id user_num_id\n",
       "0               bf_u_48      bf_u_1\n",
       "1              bf_u_899      bf_u_1\n",
       "2             bf_u_6781      bf_u_1\n",
       "3            bf_u_10097      bf_u_1\n",
       "4              bf_u_100      bf_u_2\n",
       "...                 ...         ...\n",
       "1209489      pf_u_22113  pf_u_23864\n",
       "1209490       pf_u_6324  pf_u_23865\n",
       "1209491      pf_u_10715  pf_u_23865\n",
       "1209492      pf_u_11222  pf_u_23865\n",
       "1209493      pf_u_19991  pf_u_23865\n",
       "\n",
       "[1209494 rows x 2 columns]"
      ]
     },
     "execution_count": 50,
     "metadata": {},
     "output_type": "execute_result"
    }
   ],
   "source": [
    "df_all_user_user"
   ]
  },
  {
   "cell_type": "markdown",
   "metadata": {},
   "source": [
    "# Networkx analysis"
   ]
  },
  {
   "cell_type": "code",
   "execution_count": null,
   "metadata": {},
   "outputs": [],
   "source": []
  },
  {
   "cell_type": "markdown",
   "metadata": {},
   "source": [
    "## News User"
   ]
  },
  {
   "cell_type": "code",
   "execution_count": 51,
   "metadata": {
    "ExecuteTime": {
     "end_time": "2020-12-03T00:25:45.560467Z",
     "start_time": "2020-12-03T00:25:45.339066Z"
    }
   },
   "outputs": [
    {
     "data": {
      "text/html": [
       "<div>\n",
       "<style scoped>\n",
       "    .dataframe tbody tr th:only-of-type {\n",
       "        vertical-align: middle;\n",
       "    }\n",
       "\n",
       "    .dataframe tbody tr th {\n",
       "        vertical-align: top;\n",
       "    }\n",
       "\n",
       "    .dataframe thead th {\n",
       "        text-align: right;\n",
       "    }\n",
       "</style>\n",
       "<table border=\"1\" class=\"dataframe\">\n",
       "  <thead>\n",
       "    <tr style=\"text-align: right;\">\n",
       "      <th></th>\n",
       "      <th>news_num_id</th>\n",
       "      <th>user_num_id</th>\n",
       "      <th>times</th>\n",
       "      <th>news_alph_id</th>\n",
       "      <th>news_id_real</th>\n",
       "      <th>news_type</th>\n",
       "    </tr>\n",
       "  </thead>\n",
       "  <tbody>\n",
       "    <tr>\n",
       "      <th>0</th>\n",
       "      <td>bf_n_45</td>\n",
       "      <td>bf_u_1</td>\n",
       "      <td>1</td>\n",
       "      <td>BuzzFeed_Real_45</td>\n",
       "      <td>BuzzFeed_Real_45</td>\n",
       "      <td>real</td>\n",
       "    </tr>\n",
       "    <tr>\n",
       "      <th>1</th>\n",
       "      <td>bf_n_45</td>\n",
       "      <td>bf_u_6</td>\n",
       "      <td>1</td>\n",
       "      <td>BuzzFeed_Real_45</td>\n",
       "      <td>BuzzFeed_Real_45</td>\n",
       "      <td>real</td>\n",
       "    </tr>\n",
       "    <tr>\n",
       "      <th>2</th>\n",
       "      <td>bf_n_45</td>\n",
       "      <td>bf_u_7</td>\n",
       "      <td>1</td>\n",
       "      <td>BuzzFeed_Real_45</td>\n",
       "      <td>BuzzFeed_Real_45</td>\n",
       "      <td>real</td>\n",
       "    </tr>\n",
       "    <tr>\n",
       "      <th>3</th>\n",
       "      <td>bf_n_45</td>\n",
       "      <td>bf_u_8</td>\n",
       "      <td>1</td>\n",
       "      <td>BuzzFeed_Real_45</td>\n",
       "      <td>BuzzFeed_Real_45</td>\n",
       "      <td>real</td>\n",
       "    </tr>\n",
       "    <tr>\n",
       "      <th>4</th>\n",
       "      <td>bf_n_45</td>\n",
       "      <td>bf_u_18</td>\n",
       "      <td>1</td>\n",
       "      <td>BuzzFeed_Real_45</td>\n",
       "      <td>BuzzFeed_Real_45</td>\n",
       "      <td>real</td>\n",
       "    </tr>\n",
       "    <tr>\n",
       "      <th>...</th>\n",
       "      <td>...</td>\n",
       "      <td>...</td>\n",
       "      <td>...</td>\n",
       "      <td>...</td>\n",
       "      <td>...</td>\n",
       "      <td>...</td>\n",
       "    </tr>\n",
       "    <tr>\n",
       "      <th>55565</th>\n",
       "      <td>pf_n_22</td>\n",
       "      <td>pf_u_14243</td>\n",
       "      <td>1</td>\n",
       "      <td>PolitiFact_Real_22</td>\n",
       "      <td>PolitiFact_Real_22</td>\n",
       "      <td>real</td>\n",
       "    </tr>\n",
       "    <tr>\n",
       "      <th>55566</th>\n",
       "      <td>pf_n_104</td>\n",
       "      <td>pf_u_15243</td>\n",
       "      <td>1</td>\n",
       "      <td>PolitiFact_Real_104</td>\n",
       "      <td>PolitiFact_Real_104</td>\n",
       "      <td>real</td>\n",
       "    </tr>\n",
       "    <tr>\n",
       "      <th>55567</th>\n",
       "      <td>pf_n_173</td>\n",
       "      <td>pf_u_17714</td>\n",
       "      <td>1</td>\n",
       "      <td>PolitiFact_Fake_53</td>\n",
       "      <td>PolitiFact_Fake_173</td>\n",
       "      <td>fake</td>\n",
       "    </tr>\n",
       "    <tr>\n",
       "      <th>55568</th>\n",
       "      <td>pf_n_198</td>\n",
       "      <td>pf_u_19687</td>\n",
       "      <td>1</td>\n",
       "      <td>PolitiFact_Fake_78</td>\n",
       "      <td>PolitiFact_Fake_198</td>\n",
       "      <td>fake</td>\n",
       "    </tr>\n",
       "    <tr>\n",
       "      <th>55569</th>\n",
       "      <td>pf_n_127</td>\n",
       "      <td>pf_u_21173</td>\n",
       "      <td>1</td>\n",
       "      <td>PolitiFact_Fake_7</td>\n",
       "      <td>PolitiFact_Fake_127</td>\n",
       "      <td>fake</td>\n",
       "    </tr>\n",
       "  </tbody>\n",
       "</table>\n",
       "<p>55570 rows × 6 columns</p>\n",
       "</div>"
      ],
      "text/plain": [
       "      news_num_id user_num_id  times         news_alph_id  \\\n",
       "0         bf_n_45      bf_u_1      1     BuzzFeed_Real_45   \n",
       "1         bf_n_45      bf_u_6      1     BuzzFeed_Real_45   \n",
       "2         bf_n_45      bf_u_7      1     BuzzFeed_Real_45   \n",
       "3         bf_n_45      bf_u_8      1     BuzzFeed_Real_45   \n",
       "4         bf_n_45     bf_u_18      1     BuzzFeed_Real_45   \n",
       "...           ...         ...    ...                  ...   \n",
       "55565     pf_n_22  pf_u_14243      1   PolitiFact_Real_22   \n",
       "55566    pf_n_104  pf_u_15243      1  PolitiFact_Real_104   \n",
       "55567    pf_n_173  pf_u_17714      1   PolitiFact_Fake_53   \n",
       "55568    pf_n_198  pf_u_19687      1   PolitiFact_Fake_78   \n",
       "55569    pf_n_127  pf_u_21173      1    PolitiFact_Fake_7   \n",
       "\n",
       "              news_id_real news_type  \n",
       "0         BuzzFeed_Real_45      real  \n",
       "1         BuzzFeed_Real_45      real  \n",
       "2         BuzzFeed_Real_45      real  \n",
       "3         BuzzFeed_Real_45      real  \n",
       "4         BuzzFeed_Real_45      real  \n",
       "...                    ...       ...  \n",
       "55565   PolitiFact_Real_22      real  \n",
       "55566  PolitiFact_Real_104      real  \n",
       "55567  PolitiFact_Fake_173      fake  \n",
       "55568  PolitiFact_Fake_198      fake  \n",
       "55569  PolitiFact_Fake_127      fake  \n",
       "\n",
       "[55570 rows x 6 columns]"
      ]
     },
     "execution_count": 51,
     "metadata": {},
     "output_type": "execute_result"
    }
   ],
   "source": [
    "df_all_news_user"
   ]
  },
  {
   "cell_type": "code",
   "execution_count": 54,
   "metadata": {
    "ExecuteTime": {
     "end_time": "2020-12-03T00:25:56.761217Z",
     "start_time": "2020-12-03T00:25:56.749979Z"
    }
   },
   "outputs": [],
   "source": [
    "G_news_user = nx.DiGraph()\n",
    "G_real_news_user = nx.DiGraph()\n",
    "G_fake_news_user = nx.DiGraph()"
   ]
  },
  {
   "cell_type": "code",
   "execution_count": 55,
   "metadata": {
    "ExecuteTime": {
     "end_time": "2020-12-03T00:25:59.820044Z",
     "start_time": "2020-12-03T00:25:57.135444Z"
    }
   },
   "outputs": [],
   "source": [
    "for index, row in df_all_news_user[df_all_news_user[\"news_type\"] == \"real\"].iterrows():\n",
    "    G_real_news_user.add_edge(row[\"news_id_real\"], row[\"user_num_id\"], weight = float(row[\"times\"]), news_type = row[\"news_type\"])\n"
   ]
  },
  {
   "cell_type": "code",
   "execution_count": 56,
   "metadata": {
    "ExecuteTime": {
     "end_time": "2020-12-03T00:26:05.099047Z",
     "start_time": "2020-12-03T00:25:59.821834Z"
    }
   },
   "outputs": [],
   "source": [
    "for index, row in df_all_news_user[df_all_news_user[\"news_type\"] == \"fake\"].iterrows():\n",
    "    G_fake_news_user.add_edge(row[\"news_id_real\"], row[\"user_num_id\"], weight = float(row[\"times\"]), news_type = row[\"news_type\"])\n"
   ]
  },
  {
   "cell_type": "code",
   "execution_count": 57,
   "metadata": {
    "ExecuteTime": {
     "end_time": "2020-12-03T00:26:13.201442Z",
     "start_time": "2020-12-03T00:26:05.101260Z"
    }
   },
   "outputs": [],
   "source": [
    "for index, row in df_all_news_user.iterrows():\n",
    "    G_news_user.add_edge(row[\"news_id_real\"], row[\"user_num_id\"], weight = float(row[\"times\"]), news_type = row[\"news_type\"])\n"
   ]
  },
  {
   "cell_type": "code",
   "execution_count": 58,
   "metadata": {
    "ExecuteTime": {
     "end_time": "2020-12-03T00:26:15.556385Z",
     "start_time": "2020-12-03T00:26:13.203438Z"
    }
   },
   "outputs": [],
   "source": [
    "nx.write_gexf(G_news_user, \"all_news_user.gexf\")"
   ]
  },
  {
   "cell_type": "code",
   "execution_count": 59,
   "metadata": {
    "ExecuteTime": {
     "end_time": "2020-12-03T00:26:18.231366Z",
     "start_time": "2020-12-03T00:26:15.557739Z"
    }
   },
   "outputs": [],
   "source": [
    "nx.write_gexf(G_real_news_user, \"real_news_user.gexf\")\n",
    "nx.write_gexf(G_fake_news_user, \"fake_news_user.gexf\")"
   ]
  },
  {
   "cell_type": "markdown",
   "metadata": {},
   "source": [
    "### Centrality measure"
   ]
  },
  {
   "cell_type": "code",
   "execution_count": 88,
   "metadata": {
    "ExecuteTime": {
     "end_time": "2020-12-03T00:36:34.812462Z",
     "start_time": "2020-12-03T00:36:34.806138Z"
    }
   },
   "outputs": [],
   "source": [
    "df_centrality = pd.DataFrame(columns = [\"values\", \"News Type\", \"matrix\"])"
   ]
  },
  {
   "cell_type": "markdown",
   "metadata": {},
   "source": [
    "### Degree centrality"
   ]
  },
  {
   "cell_type": "code",
   "execution_count": 89,
   "metadata": {
    "ExecuteTime": {
     "end_time": "2020-12-03T00:36:36.074848Z",
     "start_time": "2020-12-03T00:36:35.967740Z"
    }
   },
   "outputs": [],
   "source": [
    "graph = G_real_news_user.copy()\n",
    "degree_centrality_real = nx.degree_centrality(graph)\n",
    "degree_centrality_real = sorted(degree_centrality_real.items(), key=lambda kv: kv[1], reverse= True)\n",
    "df_degree_centrality_real = pd.DataFrame(degree_centrality_real, columns= [\"Node\", \"Degree Centrality\"])"
   ]
  },
  {
   "cell_type": "code",
   "execution_count": 90,
   "metadata": {
    "ExecuteTime": {
     "end_time": "2020-12-03T00:36:36.472328Z",
     "start_time": "2020-12-03T00:36:36.456202Z"
    }
   },
   "outputs": [
    {
     "data": {
      "text/html": [
       "<div>\n",
       "<style scoped>\n",
       "    .dataframe tbody tr th:only-of-type {\n",
       "        vertical-align: middle;\n",
       "    }\n",
       "\n",
       "    .dataframe tbody tr th {\n",
       "        vertical-align: top;\n",
       "    }\n",
       "\n",
       "    .dataframe thead th {\n",
       "        text-align: right;\n",
       "    }\n",
       "</style>\n",
       "<table border=\"1\" class=\"dataframe\">\n",
       "  <thead>\n",
       "    <tr style=\"text-align: right;\">\n",
       "      <th></th>\n",
       "      <th>Node</th>\n",
       "      <th>Degree Centrality</th>\n",
       "    </tr>\n",
       "  </thead>\n",
       "  <tbody>\n",
       "    <tr>\n",
       "      <th>0</th>\n",
       "      <td>BuzzFeed_Real_45</td>\n",
       "      <td>0.091626</td>\n",
       "    </tr>\n",
       "    <tr>\n",
       "      <th>1</th>\n",
       "      <td>BuzzFeed_Real_32</td>\n",
       "      <td>0.086803</td>\n",
       "    </tr>\n",
       "    <tr>\n",
       "      <th>2</th>\n",
       "      <td>PolitiFact_Real_37</td>\n",
       "      <td>0.066825</td>\n",
       "    </tr>\n",
       "    <tr>\n",
       "      <th>3</th>\n",
       "      <td>BuzzFeed_Real_87</td>\n",
       "      <td>0.057716</td>\n",
       "    </tr>\n",
       "    <tr>\n",
       "      <th>4</th>\n",
       "      <td>BuzzFeed_Real_72</td>\n",
       "      <td>0.051516</td>\n",
       "    </tr>\n",
       "    <tr>\n",
       "      <th>...</th>\n",
       "      <td>...</td>\n",
       "      <td>...</td>\n",
       "    </tr>\n",
       "    <tr>\n",
       "      <th>13060</th>\n",
       "      <td>pf_u_20260</td>\n",
       "      <td>0.000077</td>\n",
       "    </tr>\n",
       "    <tr>\n",
       "      <th>13061</th>\n",
       "      <td>PolitiFact_Real_22</td>\n",
       "      <td>0.000077</td>\n",
       "    </tr>\n",
       "    <tr>\n",
       "      <th>13062</th>\n",
       "      <td>pf_u_14243</td>\n",
       "      <td>0.000077</td>\n",
       "    </tr>\n",
       "    <tr>\n",
       "      <th>13063</th>\n",
       "      <td>PolitiFact_Real_104</td>\n",
       "      <td>0.000077</td>\n",
       "    </tr>\n",
       "    <tr>\n",
       "      <th>13064</th>\n",
       "      <td>pf_u_15243</td>\n",
       "      <td>0.000077</td>\n",
       "    </tr>\n",
       "  </tbody>\n",
       "</table>\n",
       "<p>13065 rows × 2 columns</p>\n",
       "</div>"
      ],
      "text/plain": [
       "                      Node  Degree Centrality\n",
       "0         BuzzFeed_Real_45           0.091626\n",
       "1         BuzzFeed_Real_32           0.086803\n",
       "2       PolitiFact_Real_37           0.066825\n",
       "3         BuzzFeed_Real_87           0.057716\n",
       "4         BuzzFeed_Real_72           0.051516\n",
       "...                    ...                ...\n",
       "13060           pf_u_20260           0.000077\n",
       "13061   PolitiFact_Real_22           0.000077\n",
       "13062           pf_u_14243           0.000077\n",
       "13063  PolitiFact_Real_104           0.000077\n",
       "13064           pf_u_15243           0.000077\n",
       "\n",
       "[13065 rows x 2 columns]"
      ]
     },
     "execution_count": 90,
     "metadata": {},
     "output_type": "execute_result"
    }
   ],
   "source": [
    "df_degree_centrality_real"
   ]
  },
  {
   "cell_type": "code",
   "execution_count": null,
   "metadata": {},
   "outputs": [],
   "source": []
  },
  {
   "cell_type": "code",
   "execution_count": 91,
   "metadata": {
    "ExecuteTime": {
     "end_time": "2020-12-03T00:36:40.273504Z",
     "start_time": "2020-12-03T00:36:40.072926Z"
    }
   },
   "outputs": [],
   "source": [
    "graph = G_fake_news_user.copy()\n",
    "degree_centrality_fake = nx.degree_centrality(graph)\n",
    "degree_centrality_fake = sorted(degree_centrality_fake.items(), key=lambda kv: kv[1], reverse= True)\n",
    "df_degree_centrality_fake = pd.DataFrame(degree_centrality_fake, columns= [\"Node\", \"Degree Centrality\"])"
   ]
  },
  {
   "cell_type": "code",
   "execution_count": null,
   "metadata": {
    "ExecuteTime": {
     "end_time": "2020-12-03T00:26:18.739078Z",
     "start_time": "2020-12-03T00:26:18.727373Z"
    }
   },
   "outputs": [],
   "source": []
  },
  {
   "cell_type": "code",
   "execution_count": null,
   "metadata": {},
   "outputs": [],
   "source": []
  },
  {
   "cell_type": "code",
   "execution_count": 92,
   "metadata": {
    "ExecuteTime": {
     "end_time": "2020-12-03T00:36:41.752215Z",
     "start_time": "2020-12-03T00:36:41.729826Z"
    }
   },
   "outputs": [],
   "source": [
    "df_centrality = df_centrality.append(pd.DataFrame({\"values\" : df_degree_centrality_real[df_degree_centrality_real['Node'].str.contains(\"Real\")][\"Degree Centrality\"].values,\n",
    "             \"News Type\" : \"real\", \"matrix\" : \"Degree Centrality\"}))"
   ]
  },
  {
   "cell_type": "code",
   "execution_count": 93,
   "metadata": {
    "ExecuteTime": {
     "end_time": "2020-12-03T00:36:44.342907Z",
     "start_time": "2020-12-03T00:36:44.312206Z"
    }
   },
   "outputs": [],
   "source": [
    "df_centrality = df_centrality.append(pd.DataFrame({\"values\" : df_degree_centrality_fake[df_degree_centrality_fake['Node'].str.contains(\"Fake\")][\"Degree Centrality\"].values,\n",
    "                                                   \"News Type\" : \"fake\", \"matrix\" : \"Degree Centrality\"}))"
   ]
  },
  {
   "cell_type": "code",
   "execution_count": 94,
   "metadata": {
    "ExecuteTime": {
     "end_time": "2020-12-03T00:36:45.134597Z",
     "start_time": "2020-12-03T00:36:45.120509Z"
    }
   },
   "outputs": [
    {
     "data": {
      "text/html": [
       "<div>\n",
       "<style scoped>\n",
       "    .dataframe tbody tr th:only-of-type {\n",
       "        vertical-align: middle;\n",
       "    }\n",
       "\n",
       "    .dataframe tbody tr th {\n",
       "        vertical-align: top;\n",
       "    }\n",
       "\n",
       "    .dataframe thead th {\n",
       "        text-align: right;\n",
       "    }\n",
       "</style>\n",
       "<table border=\"1\" class=\"dataframe\">\n",
       "  <thead>\n",
       "    <tr style=\"text-align: right;\">\n",
       "      <th></th>\n",
       "      <th>values</th>\n",
       "      <th>News Type</th>\n",
       "      <th>matrix</th>\n",
       "    </tr>\n",
       "  </thead>\n",
       "  <tbody>\n",
       "    <tr>\n",
       "      <th>0</th>\n",
       "      <td>0.091626</td>\n",
       "      <td>real</td>\n",
       "      <td>Degree Centrality</td>\n",
       "    </tr>\n",
       "    <tr>\n",
       "      <th>1</th>\n",
       "      <td>0.086803</td>\n",
       "      <td>real</td>\n",
       "      <td>Degree Centrality</td>\n",
       "    </tr>\n",
       "    <tr>\n",
       "      <th>2</th>\n",
       "      <td>0.066825</td>\n",
       "      <td>real</td>\n",
       "      <td>Degree Centrality</td>\n",
       "    </tr>\n",
       "    <tr>\n",
       "      <th>3</th>\n",
       "      <td>0.057716</td>\n",
       "      <td>real</td>\n",
       "      <td>Degree Centrality</td>\n",
       "    </tr>\n",
       "    <tr>\n",
       "      <th>4</th>\n",
       "      <td>0.051516</td>\n",
       "      <td>real</td>\n",
       "      <td>Degree Centrality</td>\n",
       "    </tr>\n",
       "    <tr>\n",
       "      <th>...</th>\n",
       "      <td>...</td>\n",
       "      <td>...</td>\n",
       "      <td>...</td>\n",
       "    </tr>\n",
       "    <tr>\n",
       "      <th>206</th>\n",
       "      <td>0.000036</td>\n",
       "      <td>fake</td>\n",
       "      <td>Degree Centrality</td>\n",
       "    </tr>\n",
       "    <tr>\n",
       "      <th>207</th>\n",
       "      <td>0.000036</td>\n",
       "      <td>fake</td>\n",
       "      <td>Degree Centrality</td>\n",
       "    </tr>\n",
       "    <tr>\n",
       "      <th>208</th>\n",
       "      <td>0.000036</td>\n",
       "      <td>fake</td>\n",
       "      <td>Degree Centrality</td>\n",
       "    </tr>\n",
       "    <tr>\n",
       "      <th>209</th>\n",
       "      <td>0.000036</td>\n",
       "      <td>fake</td>\n",
       "      <td>Degree Centrality</td>\n",
       "    </tr>\n",
       "    <tr>\n",
       "      <th>210</th>\n",
       "      <td>0.000036</td>\n",
       "      <td>fake</td>\n",
       "      <td>Degree Centrality</td>\n",
       "    </tr>\n",
       "  </tbody>\n",
       "</table>\n",
       "<p>422 rows × 3 columns</p>\n",
       "</div>"
      ],
      "text/plain": [
       "       values News Type             matrix\n",
       "0    0.091626      real  Degree Centrality\n",
       "1    0.086803      real  Degree Centrality\n",
       "2    0.066825      real  Degree Centrality\n",
       "3    0.057716      real  Degree Centrality\n",
       "4    0.051516      real  Degree Centrality\n",
       "..        ...       ...                ...\n",
       "206  0.000036      fake  Degree Centrality\n",
       "207  0.000036      fake  Degree Centrality\n",
       "208  0.000036      fake  Degree Centrality\n",
       "209  0.000036      fake  Degree Centrality\n",
       "210  0.000036      fake  Degree Centrality\n",
       "\n",
       "[422 rows x 3 columns]"
      ]
     },
     "execution_count": 94,
     "metadata": {},
     "output_type": "execute_result"
    }
   ],
   "source": [
    "df_centrality"
   ]
  },
  {
   "cell_type": "code",
   "execution_count": 95,
   "metadata": {
    "ExecuteTime": {
     "end_time": "2020-12-03T00:36:50.692958Z",
     "start_time": "2020-12-03T00:36:48.680798Z"
    }
   },
   "outputs": [
    {
     "data": {
      "image/png": "[encoded data removed]",
      "text/plain": [
       "<Figure size 432x288 with 1 Axes>"
      ]
     },
     "metadata": {},
     "output_type": "display_data"
    }
   ],
   "source": [
    "with sns.axes_style(\"whitegrid\"):  \n",
    "    sns.swarmplot(data=df_centrality, \n",
    "                  x = \"matrix\", y=\"values\", hue = \"News Type\", palette = sns.color_palette([color_fk_4, color_real_4]))"
   ]
  },
  {
   "cell_type": "code",
   "execution_count": null,
   "metadata": {},
   "outputs": [],
   "source": []
  },
  {
   "cell_type": "code",
   "execution_count": null,
   "metadata": {},
   "outputs": [],
   "source": []
  },
  {
   "cell_type": "markdown",
   "metadata": {},
   "source": [
    "### Eigen vector centrality"
   ]
  },
  {
   "cell_type": "code",
   "execution_count": 96,
   "metadata": {
    "ExecuteTime": {
     "end_time": "2020-12-03T00:36:57.643505Z",
     "start_time": "2020-12-03T00:36:55.949758Z"
    }
   },
   "outputs": [],
   "source": [
    "graph = G_real_news_user.copy()\n",
    "degree_centrality_real = nx.nx.eigenvector_centrality(graph)\n",
    "degree_centrality_real = sorted(degree_centrality_real.items(), key=lambda kv: kv[1], reverse= True)\n",
    "df_degree_centrality_real = pd.DataFrame(degree_centrality_real, columns= [\"Node\", \"Degree Centrality\"])"
   ]
  },
  {
   "cell_type": "code",
   "execution_count": 97,
   "metadata": {
    "ExecuteTime": {
     "end_time": "2020-12-03T00:37:01.111455Z",
     "start_time": "2020-12-03T00:37:01.102141Z"
    }
   },
   "outputs": [
    {
     "data": {
      "text/html": [
       "<div>\n",
       "<style scoped>\n",
       "    .dataframe tbody tr th:only-of-type {\n",
       "        vertical-align: middle;\n",
       "    }\n",
       "\n",
       "    .dataframe tbody tr th {\n",
       "        vertical-align: top;\n",
       "    }\n",
       "\n",
       "    .dataframe thead th {\n",
       "        text-align: right;\n",
       "    }\n",
       "</style>\n",
       "<table border=\"1\" class=\"dataframe\">\n",
       "  <thead>\n",
       "    <tr style=\"text-align: right;\">\n",
       "      <th></th>\n",
       "      <th>Node</th>\n",
       "      <th>Degree Centrality</th>\n",
       "    </tr>\n",
       "  </thead>\n",
       "  <tbody>\n",
       "    <tr>\n",
       "      <th>0</th>\n",
       "      <td>bf_u_14404</td>\n",
       "      <td>0.181643</td>\n",
       "    </tr>\n",
       "    <tr>\n",
       "      <th>1</th>\n",
       "      <td>pf_u_11690</td>\n",
       "      <td>0.151381</td>\n",
       "    </tr>\n",
       "    <tr>\n",
       "      <th>2</th>\n",
       "      <td>bf_u_5392</td>\n",
       "      <td>0.121119</td>\n",
       "    </tr>\n",
       "    <tr>\n",
       "      <th>3</th>\n",
       "      <td>pf_u_10374</td>\n",
       "      <td>0.113554</td>\n",
       "    </tr>\n",
       "    <tr>\n",
       "      <th>4</th>\n",
       "      <td>bf_u_4463</td>\n",
       "      <td>0.105989</td>\n",
       "    </tr>\n",
       "    <tr>\n",
       "      <th>...</th>\n",
       "      <td>...</td>\n",
       "      <td>...</td>\n",
       "    </tr>\n",
       "    <tr>\n",
       "      <th>13060</th>\n",
       "      <td>PolitiFact_Real_54</td>\n",
       "      <td>0.000073</td>\n",
       "    </tr>\n",
       "    <tr>\n",
       "      <th>13061</th>\n",
       "      <td>PolitiFact_Real_47</td>\n",
       "      <td>0.000073</td>\n",
       "    </tr>\n",
       "    <tr>\n",
       "      <th>13062</th>\n",
       "      <td>PolitiFact_Real_117</td>\n",
       "      <td>0.000073</td>\n",
       "    </tr>\n",
       "    <tr>\n",
       "      <th>13063</th>\n",
       "      <td>PolitiFact_Real_22</td>\n",
       "      <td>0.000073</td>\n",
       "    </tr>\n",
       "    <tr>\n",
       "      <th>13064</th>\n",
       "      <td>PolitiFact_Real_104</td>\n",
       "      <td>0.000073</td>\n",
       "    </tr>\n",
       "  </tbody>\n",
       "</table>\n",
       "<p>13065 rows × 2 columns</p>\n",
       "</div>"
      ],
      "text/plain": [
       "                      Node  Degree Centrality\n",
       "0               bf_u_14404           0.181643\n",
       "1               pf_u_11690           0.151381\n",
       "2                bf_u_5392           0.121119\n",
       "3               pf_u_10374           0.113554\n",
       "4                bf_u_4463           0.105989\n",
       "...                    ...                ...\n",
       "13060   PolitiFact_Real_54           0.000073\n",
       "13061   PolitiFact_Real_47           0.000073\n",
       "13062  PolitiFact_Real_117           0.000073\n",
       "13063   PolitiFact_Real_22           0.000073\n",
       "13064  PolitiFact_Real_104           0.000073\n",
       "\n",
       "[13065 rows x 2 columns]"
      ]
     },
     "execution_count": 97,
     "metadata": {},
     "output_type": "execute_result"
    }
   ],
   "source": [
    "df_degree_centrality_real"
   ]
  },
  {
   "cell_type": "code",
   "execution_count": null,
   "metadata": {},
   "outputs": [],
   "source": []
  },
  {
   "cell_type": "code",
   "execution_count": 98,
   "metadata": {
    "ExecuteTime": {
     "end_time": "2020-12-03T00:37:31.167762Z",
     "start_time": "2020-12-03T00:37:27.806849Z"
    }
   },
   "outputs": [],
   "source": [
    "graph = G_fake_news_user.copy()\n",
    "degree_centrality_fake = nx.eigenvector_centrality(graph)\n",
    "degree_centrality_fake = sorted(degree_centrality_fake.items(), key=lambda kv: kv[1], reverse= True)\n",
    "df_degree_centrality_fake = pd.DataFrame(degree_centrality_fake, columns= [\"Node\", \"Degree Centrality\"])"
   ]
  },
  {
   "cell_type": "code",
   "execution_count": null,
   "metadata": {},
   "outputs": [],
   "source": []
  },
  {
   "cell_type": "code",
   "execution_count": 99,
   "metadata": {
    "ExecuteTime": {
     "end_time": "2020-12-03T00:37:42.601334Z",
     "start_time": "2020-12-03T00:37:42.585870Z"
    }
   },
   "outputs": [],
   "source": [
    "df_centrality = df_centrality.append(pd.DataFrame({\"values\" : df_degree_centrality_real[df_degree_centrality_real['Node'].str.contains(\"Real\")][\"Degree Centrality\"].values,\n",
    "             \"News Type\" : \"real\", \"matrix\" : \"Eigen Vec Cent.\"}))"
   ]
  },
  {
   "cell_type": "code",
   "execution_count": 100,
   "metadata": {
    "ExecuteTime": {
     "end_time": "2020-12-03T00:37:43.341175Z",
     "start_time": "2020-12-03T00:37:43.310780Z"
    }
   },
   "outputs": [],
   "source": [
    "df_centrality = df_centrality.append(pd.DataFrame({\"values\" : df_degree_centrality_fake[df_degree_centrality_fake['Node'].str.contains(\"Fake\")][\"Degree Centrality\"].values,\n",
    "                                                   \"News Type\" : \"fake\", \"matrix\" : \"Eigen Vec Cent.\"}))"
   ]
  },
  {
   "cell_type": "code",
   "execution_count": 115,
   "metadata": {
    "ExecuteTime": {
     "end_time": "2020-12-03T00:44:14.915233Z",
     "start_time": "2020-12-03T00:44:14.899284Z"
    }
   },
   "outputs": [
    {
     "data": {
      "text/html": [
       "<div>\n",
       "<style scoped>\n",
       "    .dataframe tbody tr th:only-of-type {\n",
       "        vertical-align: middle;\n",
       "    }\n",
       "\n",
       "    .dataframe tbody tr th {\n",
       "        vertical-align: top;\n",
       "    }\n",
       "\n",
       "    .dataframe thead th {\n",
       "        text-align: right;\n",
       "    }\n",
       "</style>\n",
       "<table border=\"1\" class=\"dataframe\">\n",
       "  <thead>\n",
       "    <tr style=\"text-align: right;\">\n",
       "      <th></th>\n",
       "      <th>values</th>\n",
       "      <th>News Type</th>\n",
       "      <th>matrix</th>\n",
       "    </tr>\n",
       "  </thead>\n",
       "  <tbody>\n",
       "    <tr>\n",
       "      <th>0</th>\n",
       "      <td>0.000073</td>\n",
       "      <td>real</td>\n",
       "      <td>Eigen Vec Cent.</td>\n",
       "    </tr>\n",
       "    <tr>\n",
       "      <th>1</th>\n",
       "      <td>0.000073</td>\n",
       "      <td>real</td>\n",
       "      <td>Eigen Vec Cent.</td>\n",
       "    </tr>\n",
       "    <tr>\n",
       "      <th>2</th>\n",
       "      <td>0.000073</td>\n",
       "      <td>real</td>\n",
       "      <td>Eigen Vec Cent.</td>\n",
       "    </tr>\n",
       "    <tr>\n",
       "      <th>3</th>\n",
       "      <td>0.000073</td>\n",
       "      <td>real</td>\n",
       "      <td>Eigen Vec Cent.</td>\n",
       "    </tr>\n",
       "    <tr>\n",
       "      <th>4</th>\n",
       "      <td>0.000073</td>\n",
       "      <td>real</td>\n",
       "      <td>Eigen Vec Cent.</td>\n",
       "    </tr>\n",
       "    <tr>\n",
       "      <th>...</th>\n",
       "      <td>...</td>\n",
       "      <td>...</td>\n",
       "      <td>...</td>\n",
       "    </tr>\n",
       "    <tr>\n",
       "      <th>206</th>\n",
       "      <td>0.000076</td>\n",
       "      <td>fake</td>\n",
       "      <td>Eigen Vec Cent.</td>\n",
       "    </tr>\n",
       "    <tr>\n",
       "      <th>207</th>\n",
       "      <td>0.000076</td>\n",
       "      <td>fake</td>\n",
       "      <td>Eigen Vec Cent.</td>\n",
       "    </tr>\n",
       "    <tr>\n",
       "      <th>208</th>\n",
       "      <td>0.000076</td>\n",
       "      <td>fake</td>\n",
       "      <td>Eigen Vec Cent.</td>\n",
       "    </tr>\n",
       "    <tr>\n",
       "      <th>209</th>\n",
       "      <td>0.000076</td>\n",
       "      <td>fake</td>\n",
       "      <td>Eigen Vec Cent.</td>\n",
       "    </tr>\n",
       "    <tr>\n",
       "      <th>210</th>\n",
       "      <td>0.000076</td>\n",
       "      <td>fake</td>\n",
       "      <td>Eigen Vec Cent.</td>\n",
       "    </tr>\n",
       "  </tbody>\n",
       "</table>\n",
       "<p>422 rows × 3 columns</p>\n",
       "</div>"
      ],
      "text/plain": [
       "       values News Type           matrix\n",
       "0    0.000073      real  Eigen Vec Cent.\n",
       "1    0.000073      real  Eigen Vec Cent.\n",
       "2    0.000073      real  Eigen Vec Cent.\n",
       "3    0.000073      real  Eigen Vec Cent.\n",
       "4    0.000073      real  Eigen Vec Cent.\n",
       "..        ...       ...              ...\n",
       "206  0.000076      fake  Eigen Vec Cent.\n",
       "207  0.000076      fake  Eigen Vec Cent.\n",
       "208  0.000076      fake  Eigen Vec Cent.\n",
       "209  0.000076      fake  Eigen Vec Cent.\n",
       "210  0.000076      fake  Eigen Vec Cent.\n",
       "\n",
       "[422 rows x 3 columns]"
      ]
     },
     "execution_count": 115,
     "metadata": {},
     "output_type": "execute_result"
    }
   ],
   "source": [
    "df_centrality[df_centrality[\"matrix\"] == \"Eigen Vec Cent.\"]"
   ]
  },
  {
   "cell_type": "code",
   "execution_count": 113,
   "metadata": {
    "ExecuteTime": {
     "end_time": "2020-12-03T00:42:58.810892Z",
     "start_time": "2020-12-03T00:42:58.804565Z"
    }
   },
   "outputs": [],
   "source": [
    "df_centrality[df_centrality[\"matrix\"] == \"Eigen Vec Cent.\"][\"values\"] *= 100000"
   ]
  },
  {
   "cell_type": "code",
   "execution_count": 114,
   "metadata": {
    "ExecuteTime": {
     "end_time": "2020-12-03T00:43:06.448715Z",
     "start_time": "2020-12-03T00:43:00.140402Z"
    }
   },
   "outputs": [
    {
     "data": {
      "image/png": "[encoded data removed]",
      "text/plain": [
       "<Figure size 432x288 with 1 Axes>"
      ]
     },
     "metadata": {},
     "output_type": "display_data"
    }
   ],
   "source": [
    "with sns.axes_style(\"whitegrid\"):  \n",
    "    sns.swarmplot(data=df_centrality[df_centrality[\"matrix\"] == \"Eigen Vec Cent.\"], \n",
    "                  x = \"matrix\", y=\"values\", hue = \"News Type\", palette = sns.color_palette([color_fk_4, color_real_4]))"
   ]
  },
  {
   "cell_type": "code",
   "execution_count": null,
   "metadata": {},
   "outputs": [],
   "source": []
  },
  {
   "cell_type": "code",
   "execution_count": null,
   "metadata": {},
   "outputs": [],
   "source": []
  },
  {
   "cell_type": "code",
   "execution_count": null,
   "metadata": {},
   "outputs": [],
   "source": []
  },
  {
   "cell_type": "code",
   "execution_count": null,
   "metadata": {},
   "outputs": [],
   "source": []
  },
  {
   "cell_type": "markdown",
   "metadata": {},
   "source": []
  },
  {
   "cell_type": "code",
   "execution_count": null,
   "metadata": {},
   "outputs": [],
   "source": []
  },
  {
   "cell_type": "code",
   "execution_count": null,
   "metadata": {},
   "outputs": [],
   "source": []
  },
  {
   "cell_type": "code",
   "execution_count": null,
   "metadata": {},
   "outputs": [],
   "source": []
  },
  {
   "cell_type": "code",
   "execution_count": null,
   "metadata": {
    "ExecuteTime": {
     "end_time": "2020-12-03T00:25:48.214368Z",
     "start_time": "2020-12-03T00:25:32.148Z"
    }
   },
   "outputs": [],
   "source": [
    "\"\"\"\n",
    "pos = nx.spring_layout(G_news_user)\n",
    "\n",
    "# larger figure size\n",
    "plt.figure(3,figsize=(50,50)) \n",
    "nx.draw(G_news_user,pos)\n",
    "plt.show()\n",
    "\"\"\""
   ]
  },
  {
   "cell_type": "code",
   "execution_count": 116,
   "metadata": {
    "ExecuteTime": {
     "end_time": "2020-12-03T05:35:56.970561Z",
     "start_time": "2020-12-03T05:35:56.964395Z"
    }
   },
   "outputs": [
    {
     "data": {
      "text/plain": [
       "0        1\n",
       "1        1\n",
       "2        1\n",
       "3        1\n",
       "4        1\n",
       "        ..\n",
       "55565    1\n",
       "55566    1\n",
       "55567    1\n",
       "55568    1\n",
       "55569    1\n",
       "Name: times, Length: 55570, dtype: int64"
      ]
     },
     "execution_count": 116,
     "metadata": {},
     "output_type": "execute_result"
    }
   ],
   "source": [
    "df_all_news_user[\"times\"]"
   ]
  },
  {
   "cell_type": "code",
   "execution_count": 138,
   "metadata": {
    "ExecuteTime": {
     "end_time": "2020-12-03T05:54:35.050569Z",
     "start_time": "2020-12-03T05:54:35.039602Z"
    }
   },
   "outputs": [
    {
     "data": {
      "text/plain": [
       "array([1, 1, 1, ..., 1, 1, 1])"
      ]
     },
     "execution_count": 138,
     "metadata": {},
     "output_type": "execute_result"
    }
   ],
   "source": [
    "df_all_news_user[df_all_news_user[\"news_type\"] == \"real\"][\"times\"].values"
   ]
  },
  {
   "cell_type": "code",
   "execution_count": 134,
   "metadata": {
    "ExecuteTime": {
     "end_time": "2020-12-03T05:47:13.163106Z",
     "start_time": "2020-12-03T05:47:12.213917Z"
    }
   },
   "outputs": [
    {
     "data": {
      "image/png": "[encoded data removed]",
      "text/plain": [
       "<Figure size 903.4x595.44 with 1 Axes>"
      ]
     },
     "metadata": {},
     "output_type": "display_data"
    }
   ],
   "source": [
    "with sns.axes_style(\"whitegrid\"):   \n",
    "    sns.displot(df_all_news_user, x=\"times\", hue=\"news_type\", bins = 70, fill=True, height=8.27, aspect=11.7/8.27,  multiple=\"dodge\", palette = sns.color_palette([color_real_4, color_fk_4]))"
   ]
  },
  {
   "cell_type": "code",
   "execution_count": 175,
   "metadata": {
    "ExecuteTime": {
     "end_time": "2020-12-03T06:20:25.768389Z",
     "start_time": "2020-12-03T06:20:24.988714Z"
    }
   },
   "outputs": [
    {
     "data": {
      "image/png": "[encoded data removed]",
      "text/plain": [
       "<Figure size 1080x576 with 4 Axes>"
      ]
     },
     "metadata": {},
     "output_type": "display_data"
    }
   ],
   "source": [
    "with sns.axes_style(\"whitegrid\"):    \n",
    "    fig, axs = plt.subplots(2, 2, sharex=False, sharey = False, figsize=(15,8))\n",
    "\n",
    "    _p1 = axs[0,0].hist(df_all_news_user[df_all_news_user[\"news_type\"] == \"real\"][\"times\"].values, color = color_real_4, edgecolor = color_real_9, bins = 10, histtype='stepfilled',)\n",
    "    \n",
    "    _p1 = axs[0,0].hist(df_all_news_user[df_all_news_user[\"news_type\"] == \"fake\"][\"times\"].values, color = color_fk_4, edgecolor = color_fk_9, bins = 10,histtype='stepfilled',)\n",
    "    \n",
    "\n",
    "    \n",
    "    _p1 = axs[0,1].hist(df_all_news_user[df_all_news_user[\"news_type\"] == \"real\"][\"times\"].values, color = color_real_4, edgecolor = color_real_9, bins = 10, histtype='stepfilled',)\n",
    "    \n",
    "    _p1 = axs[0,1].hist(df_all_news_user[df_all_news_user[\"news_type\"] == \"fake\"][\"times\"].values, color = color_fk_4, edgecolor = color_fk_9, bins = 10,histtype='stepfilled',)\n",
    " \n",
    "\n",
    "    _p1 = axs[1,0].hist(df_all_news_user[df_all_news_user[\"news_type\"] == \"real\"][\"times\"].values, color = color_real_4, edgecolor = color_real_9, bins = 10, histtype='stepfilled',)\n",
    "    \n",
    "    _p1 = axs[1,0].hist(df_all_news_user[df_all_news_user[\"news_type\"] == \"fake\"][\"times\"].values, color = color_fk_4, edgecolor = color_fk_9, bins = 10,histtype='stepfilled',)\n",
    " \n",
    "\n",
    "    _p1 = axs[1,1].hist(df_all_news_user[df_all_news_user[\"news_type\"] == \"real\"][\"times\"].values, color = color_real_4, edgecolor = color_real_9, bins = 10, histtype='stepfilled',)\n",
    "    \n",
    "    _p1 = axs[1,1].hist(df_all_news_user[df_all_news_user[\"news_type\"] == \"fake\"][\"times\"].values, color = color_fk_4, edgecolor = color_fk_9, bins = 10,histtype='stepfilled',)\n",
    " \n",
    "    \n",
    "    \n",
    "    mn, mx = plt.xlim()\n",
    "    \n",
    "    \n",
    "    \n",
    "    axs[0,0].set_xlim(0, 31) # outliers only\n",
    "    axs[0,0].set_ylim(220, 40000) # outliers only    \n",
    "  \n",
    "    axs[1,0].set_xlim(0,31) # most of the data\n",
    "    axs[1,0].set_ylim(0,220) # most of the data\n",
    "\n",
    "    axs[0,1].set_xlim(31, 70) # outliers only\n",
    "    axs[0,1].set_ylim(510, 40000) # outliers only\n",
    "\n",
    "    axs[1,1].set_xlim(31, 70) # most of the data\n",
    "    axs[1,1].set_ylim(0,32) # most of the data    \n",
    "    \n",
    "    \n",
    "    # hide the spines between ax and ax2\n",
    "    axs[0,0].spines['bottom'].set_visible(False)\n",
    "    axs[0,0].spines['right'].set_visible(False)    \n",
    "        \n",
    "    axs[1,0].spines['top'].set_visible(False)\n",
    "    axs[1,0].spines['right'].set_visible(False)    \n",
    "    \n",
    "\n",
    "    # hide the spines between ax and ax2\n",
    "    axs[0,1].spines['bottom'].set_visible(False)\n",
    "    axs[0,1].spines['left'].set_visible(False)         \n",
    "\n",
    "\n",
    "    axs[1,1].spines['top'].set_visible(False)\n",
    "    axs[1,1].spines['left'].set_visible(False)    \n",
    "    \n",
    " \n",
    "   \n",
    "    axs[0,0].tick_params(labelbottom=False)\n",
    "    \n",
    "    axs[0,1].tick_params(labelbottom=False)\n",
    "    axs[0,1].tick_params(labelleft=False)\n",
    "    \n",
    "    axs[1,1].tick_params(labelleft=False)\n",
    "    \n",
    "    axs[1,0].set_xlabel(\"Number of share of a news\")\n",
    "    axs[1,0].set_ylabel(\"Count\")\n",
    "    axs[0,0].set_title(\"Histogram of news share\")    \n",
    "    \n",
    "    plt.subplots_adjust(wspace=0.05)    \n",
    "    \n",
    "    axs[0,1].legend(labels = [\"Real News\", \"Fake News\"], loc='right top',\n",
    "       ncol=1,  borderaxespad=2.0, prop={'size': 10})\n",
    "    \n",
    "    #xticks(-0.0+np.arange(20), top_fake_authors[:20], rotation=90)\n"
   ]
  },
  {
   "cell_type": "code",
   "execution_count": null,
   "metadata": {},
   "outputs": [],
   "source": []
  }
 ],
 "metadata": {
  "kernelspec": {
   "display_name": "Python [conda env:common] *",
   "language": "python",
   "name": "conda-env-common-py"
  },
  "language_info": {
   "codemirror_mode": {
    "name": "ipython",
    "version": 3
   },
   "file_extension": ".py",
   "mimetype": "text/x-python",
   "name": "python",
   "nbconvert_exporter": "python",
   "pygments_lexer": "ipython3",
   "version": "3.7.7"
  },
  "toc": {
   "base_numbering": 1,
   "nav_menu": {},
   "number_sections": true,
   "sideBar": true,
   "skip_h1_title": false,
   "title_cell": "Table of Contents",
   "title_sidebar": "Contents",
   "toc_cell": false,
   "toc_position": {},
   "toc_section_display": true,
   "toc_window_display": true
  }
 },
 "nbformat": 4,
 "nbformat_minor": 4
}
